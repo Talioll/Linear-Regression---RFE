{
 "cells": [
  {
   "cell_type": "markdown",
   "id": "927db517",
   "metadata": {},
   "source": [
    "## Car Price Prediction - Linear Regression RFE\n",
    "\n",
    "\n",
    "RFE (Recursive Feature Elimination) is a feature selection method used in data modeling. It works by recursively removing features from the input data and evaluating the model performance using the remaining features. The process continues until the desired number of features is reached or until the model performance stops improving."
   ]
  },
  {
   "cell_type": "markdown",
   "id": "ac7e3db1",
   "metadata": {},
   "source": [
    "### Preparation"
   ]
  },
  {
   "cell_type": "code",
   "execution_count": 1,
   "id": "29e6264d",
   "metadata": {},
   "outputs": [
    {
     "name": "stderr",
     "output_type": "stream",
     "text": [
      "C:\\Users\\talia\\anaconda3\\envs\\talia_excercise\\lib\\site-packages\\numpy\\_distributor_init.py:30: UserWarning: loaded more than 1 DLL from .libs:\n",
      "C:\\Users\\talia\\anaconda3\\envs\\talia_excercise\\lib\\site-packages\\numpy\\.libs\\libopenblas.EL2C6PLE4ZYW3ECEVIV3OXXGRN2NRFM2.gfortran-win_amd64.dll\n",
      "C:\\Users\\talia\\anaconda3\\envs\\talia_excercise\\lib\\site-packages\\numpy\\.libs\\libopenblas.XWYDX2IKJW2NMTWSFYNGFUWKQU3LYTCZ.gfortran-win_amd64.dll\n",
      "  warnings.warn(\"loaded more than 1 DLL from .libs:\"\n"
     ]
    }
   ],
   "source": [
    "import pandas as pd\n",
    "import numpy as np\n",
    "import matplotlib.pyplot as plt\n",
    "import seaborn as sns\n",
    "\n",
    "from sklearn.model_selection import train_test_split\n",
    "from sklearn.preprocessing import StandardScaler,scale\n",
    "\n",
    "import statsmodels.api as sm "
   ]
  },
  {
   "cell_type": "markdown",
   "id": "c8e1756b",
   "metadata": {},
   "source": [
    "### Read & Checking Data"
   ]
  },
  {
   "cell_type": "code",
   "execution_count": 2,
   "id": "a5566166",
   "metadata": {},
   "outputs": [
    {
     "data": {
      "text/html": [
       "<div>\n",
       "<style scoped>\n",
       "    .dataframe tbody tr th:only-of-type {\n",
       "        vertical-align: middle;\n",
       "    }\n",
       "\n",
       "    .dataframe tbody tr th {\n",
       "        vertical-align: top;\n",
       "    }\n",
       "\n",
       "    .dataframe thead th {\n",
       "        text-align: right;\n",
       "    }\n",
       "</style>\n",
       "<table border=\"1\" class=\"dataframe\">\n",
       "  <thead>\n",
       "    <tr style=\"text-align: right;\">\n",
       "      <th></th>\n",
       "      <th>car_ID</th>\n",
       "      <th>symboling</th>\n",
       "      <th>CarName</th>\n",
       "      <th>fueltype</th>\n",
       "      <th>aspiration</th>\n",
       "      <th>doornumber</th>\n",
       "      <th>carbody</th>\n",
       "      <th>drivewheel</th>\n",
       "      <th>enginelocation</th>\n",
       "      <th>wheelbase</th>\n",
       "      <th>...</th>\n",
       "      <th>enginesize</th>\n",
       "      <th>fuelsystem</th>\n",
       "      <th>boreratio</th>\n",
       "      <th>stroke</th>\n",
       "      <th>compressionratio</th>\n",
       "      <th>horsepower</th>\n",
       "      <th>peakrpm</th>\n",
       "      <th>citympg</th>\n",
       "      <th>highwaympg</th>\n",
       "      <th>price</th>\n",
       "    </tr>\n",
       "  </thead>\n",
       "  <tbody>\n",
       "    <tr>\n",
       "      <th>0</th>\n",
       "      <td>1</td>\n",
       "      <td>3</td>\n",
       "      <td>alfa-romero giulia</td>\n",
       "      <td>gas</td>\n",
       "      <td>std</td>\n",
       "      <td>two</td>\n",
       "      <td>convertible</td>\n",
       "      <td>rwd</td>\n",
       "      <td>front</td>\n",
       "      <td>88.6</td>\n",
       "      <td>...</td>\n",
       "      <td>130</td>\n",
       "      <td>mpfi</td>\n",
       "      <td>3.47</td>\n",
       "      <td>2.68</td>\n",
       "      <td>9.0</td>\n",
       "      <td>111</td>\n",
       "      <td>5000</td>\n",
       "      <td>21</td>\n",
       "      <td>27</td>\n",
       "      <td>13495.0</td>\n",
       "    </tr>\n",
       "    <tr>\n",
       "      <th>1</th>\n",
       "      <td>2</td>\n",
       "      <td>3</td>\n",
       "      <td>alfa-romero stelvio</td>\n",
       "      <td>gas</td>\n",
       "      <td>std</td>\n",
       "      <td>two</td>\n",
       "      <td>convertible</td>\n",
       "      <td>rwd</td>\n",
       "      <td>front</td>\n",
       "      <td>88.6</td>\n",
       "      <td>...</td>\n",
       "      <td>130</td>\n",
       "      <td>mpfi</td>\n",
       "      <td>3.47</td>\n",
       "      <td>2.68</td>\n",
       "      <td>9.0</td>\n",
       "      <td>111</td>\n",
       "      <td>5000</td>\n",
       "      <td>21</td>\n",
       "      <td>27</td>\n",
       "      <td>16500.0</td>\n",
       "    </tr>\n",
       "    <tr>\n",
       "      <th>2</th>\n",
       "      <td>3</td>\n",
       "      <td>1</td>\n",
       "      <td>alfa-romero Quadrifoglio</td>\n",
       "      <td>gas</td>\n",
       "      <td>std</td>\n",
       "      <td>two</td>\n",
       "      <td>hatchback</td>\n",
       "      <td>rwd</td>\n",
       "      <td>front</td>\n",
       "      <td>94.5</td>\n",
       "      <td>...</td>\n",
       "      <td>152</td>\n",
       "      <td>mpfi</td>\n",
       "      <td>2.68</td>\n",
       "      <td>3.47</td>\n",
       "      <td>9.0</td>\n",
       "      <td>154</td>\n",
       "      <td>5000</td>\n",
       "      <td>19</td>\n",
       "      <td>26</td>\n",
       "      <td>16500.0</td>\n",
       "    </tr>\n",
       "    <tr>\n",
       "      <th>3</th>\n",
       "      <td>4</td>\n",
       "      <td>2</td>\n",
       "      <td>audi 100 ls</td>\n",
       "      <td>gas</td>\n",
       "      <td>std</td>\n",
       "      <td>four</td>\n",
       "      <td>sedan</td>\n",
       "      <td>fwd</td>\n",
       "      <td>front</td>\n",
       "      <td>99.8</td>\n",
       "      <td>...</td>\n",
       "      <td>109</td>\n",
       "      <td>mpfi</td>\n",
       "      <td>3.19</td>\n",
       "      <td>3.40</td>\n",
       "      <td>10.0</td>\n",
       "      <td>102</td>\n",
       "      <td>5500</td>\n",
       "      <td>24</td>\n",
       "      <td>30</td>\n",
       "      <td>13950.0</td>\n",
       "    </tr>\n",
       "    <tr>\n",
       "      <th>4</th>\n",
       "      <td>5</td>\n",
       "      <td>2</td>\n",
       "      <td>audi 100ls</td>\n",
       "      <td>gas</td>\n",
       "      <td>std</td>\n",
       "      <td>four</td>\n",
       "      <td>sedan</td>\n",
       "      <td>4wd</td>\n",
       "      <td>front</td>\n",
       "      <td>99.4</td>\n",
       "      <td>...</td>\n",
       "      <td>136</td>\n",
       "      <td>mpfi</td>\n",
       "      <td>3.19</td>\n",
       "      <td>3.40</td>\n",
       "      <td>8.0</td>\n",
       "      <td>115</td>\n",
       "      <td>5500</td>\n",
       "      <td>18</td>\n",
       "      <td>22</td>\n",
       "      <td>17450.0</td>\n",
       "    </tr>\n",
       "  </tbody>\n",
       "</table>\n",
       "<p>5 rows × 26 columns</p>\n",
       "</div>"
      ],
      "text/plain": [
       "   car_ID  symboling                   CarName fueltype aspiration doornumber  \\\n",
       "0       1          3        alfa-romero giulia      gas        std        two   \n",
       "1       2          3       alfa-romero stelvio      gas        std        two   \n",
       "2       3          1  alfa-romero Quadrifoglio      gas        std        two   \n",
       "3       4          2               audi 100 ls      gas        std       four   \n",
       "4       5          2                audi 100ls      gas        std       four   \n",
       "\n",
       "       carbody drivewheel enginelocation  wheelbase  ...  enginesize  \\\n",
       "0  convertible        rwd          front       88.6  ...         130   \n",
       "1  convertible        rwd          front       88.6  ...         130   \n",
       "2    hatchback        rwd          front       94.5  ...         152   \n",
       "3        sedan        fwd          front       99.8  ...         109   \n",
       "4        sedan        4wd          front       99.4  ...         136   \n",
       "\n",
       "   fuelsystem  boreratio  stroke compressionratio horsepower  peakrpm citympg  \\\n",
       "0        mpfi       3.47    2.68              9.0        111     5000      21   \n",
       "1        mpfi       3.47    2.68              9.0        111     5000      21   \n",
       "2        mpfi       2.68    3.47              9.0        154     5000      19   \n",
       "3        mpfi       3.19    3.40             10.0        102     5500      24   \n",
       "4        mpfi       3.19    3.40              8.0        115     5500      18   \n",
       "\n",
       "   highwaympg    price  \n",
       "0          27  13495.0  \n",
       "1          27  16500.0  \n",
       "2          26  16500.0  \n",
       "3          30  13950.0  \n",
       "4          22  17450.0  \n",
       "\n",
       "[5 rows x 26 columns]"
      ]
     },
     "execution_count": 2,
     "metadata": {},
     "output_type": "execute_result"
    }
   ],
   "source": [
    "cars = pd.read_csv('CarPrice_Assignment.csv')\n",
    "cars.head()"
   ]
  },
  {
   "cell_type": "code",
   "execution_count": 3,
   "id": "82f0380d",
   "metadata": {},
   "outputs": [
    {
     "name": "stdout",
     "output_type": "stream",
     "text": [
      "<class 'pandas.core.frame.DataFrame'>\n",
      "RangeIndex: 205 entries, 0 to 204\n",
      "Data columns (total 26 columns):\n",
      " #   Column            Non-Null Count  Dtype  \n",
      "---  ------            --------------  -----  \n",
      " 0   car_ID            205 non-null    int64  \n",
      " 1   symboling         205 non-null    int64  \n",
      " 2   CarName           205 non-null    object \n",
      " 3   fueltype          205 non-null    object \n",
      " 4   aspiration        205 non-null    object \n",
      " 5   doornumber        205 non-null    object \n",
      " 6   carbody           205 non-null    object \n",
      " 7   drivewheel        205 non-null    object \n",
      " 8   enginelocation    205 non-null    object \n",
      " 9   wheelbase         205 non-null    float64\n",
      " 10  carlength         205 non-null    float64\n",
      " 11  carwidth          205 non-null    float64\n",
      " 12  carheight         205 non-null    float64\n",
      " 13  curbweight        205 non-null    int64  \n",
      " 14  enginetype        205 non-null    object \n",
      " 15  cylindernumber    205 non-null    object \n",
      " 16  enginesize        205 non-null    int64  \n",
      " 17  fuelsystem        205 non-null    object \n",
      " 18  boreratio         205 non-null    float64\n",
      " 19  stroke            205 non-null    float64\n",
      " 20  compressionratio  205 non-null    float64\n",
      " 21  horsepower        205 non-null    int64  \n",
      " 22  peakrpm           205 non-null    int64  \n",
      " 23  citympg           205 non-null    int64  \n",
      " 24  highwaympg        205 non-null    int64  \n",
      " 25  price             205 non-null    float64\n",
      "dtypes: float64(8), int64(8), object(10)\n",
      "memory usage: 41.8+ KB\n"
     ]
    }
   ],
   "source": [
    "cars.info()"
   ]
  },
  {
   "cell_type": "code",
   "execution_count": 4,
   "id": "ae3a095e",
   "metadata": {},
   "outputs": [
    {
     "data": {
      "text/html": [
       "<div>\n",
       "<style scoped>\n",
       "    .dataframe tbody tr th:only-of-type {\n",
       "        vertical-align: middle;\n",
       "    }\n",
       "\n",
       "    .dataframe tbody tr th {\n",
       "        vertical-align: top;\n",
       "    }\n",
       "\n",
       "    .dataframe thead th {\n",
       "        text-align: right;\n",
       "    }\n",
       "</style>\n",
       "<table border=\"1\" class=\"dataframe\">\n",
       "  <thead>\n",
       "    <tr style=\"text-align: right;\">\n",
       "      <th></th>\n",
       "      <th>CarName</th>\n",
       "      <th>fueltype</th>\n",
       "      <th>aspiration</th>\n",
       "      <th>doornumber</th>\n",
       "      <th>carbody</th>\n",
       "      <th>drivewheel</th>\n",
       "      <th>enginelocation</th>\n",
       "      <th>enginetype</th>\n",
       "      <th>cylindernumber</th>\n",
       "      <th>fuelsystem</th>\n",
       "    </tr>\n",
       "  </thead>\n",
       "  <tbody>\n",
       "    <tr>\n",
       "      <th>count</th>\n",
       "      <td>205</td>\n",
       "      <td>205</td>\n",
       "      <td>205</td>\n",
       "      <td>205</td>\n",
       "      <td>205</td>\n",
       "      <td>205</td>\n",
       "      <td>205</td>\n",
       "      <td>205</td>\n",
       "      <td>205</td>\n",
       "      <td>205</td>\n",
       "    </tr>\n",
       "    <tr>\n",
       "      <th>unique</th>\n",
       "      <td>147</td>\n",
       "      <td>2</td>\n",
       "      <td>2</td>\n",
       "      <td>2</td>\n",
       "      <td>5</td>\n",
       "      <td>3</td>\n",
       "      <td>2</td>\n",
       "      <td>7</td>\n",
       "      <td>7</td>\n",
       "      <td>8</td>\n",
       "    </tr>\n",
       "    <tr>\n",
       "      <th>top</th>\n",
       "      <td>toyota corona</td>\n",
       "      <td>gas</td>\n",
       "      <td>std</td>\n",
       "      <td>four</td>\n",
       "      <td>sedan</td>\n",
       "      <td>fwd</td>\n",
       "      <td>front</td>\n",
       "      <td>ohc</td>\n",
       "      <td>four</td>\n",
       "      <td>mpfi</td>\n",
       "    </tr>\n",
       "    <tr>\n",
       "      <th>freq</th>\n",
       "      <td>6</td>\n",
       "      <td>185</td>\n",
       "      <td>168</td>\n",
       "      <td>115</td>\n",
       "      <td>96</td>\n",
       "      <td>120</td>\n",
       "      <td>202</td>\n",
       "      <td>148</td>\n",
       "      <td>159</td>\n",
       "      <td>94</td>\n",
       "    </tr>\n",
       "  </tbody>\n",
       "</table>\n",
       "</div>"
      ],
      "text/plain": [
       "              CarName fueltype aspiration doornumber carbody drivewheel  \\\n",
       "count             205      205        205        205     205        205   \n",
       "unique            147        2          2          2       5          3   \n",
       "top     toyota corona      gas        std       four   sedan        fwd   \n",
       "freq                6      185        168        115      96        120   \n",
       "\n",
       "       enginelocation enginetype cylindernumber fuelsystem  \n",
       "count             205        205            205        205  \n",
       "unique              2          7              7          8  \n",
       "top             front        ohc           four       mpfi  \n",
       "freq              202        148            159         94  "
      ]
     },
     "execution_count": 4,
     "metadata": {},
     "output_type": "execute_result"
    }
   ],
   "source": [
    "cars.describe(include = 'object')"
   ]
  },
  {
   "cell_type": "markdown",
   "id": "919d53f3",
   "metadata": {},
   "source": [
    "Our data has 205 rows and 26 columns, with 0 null values. All `object` values are  categorical variable"
   ]
  },
  {
   "cell_type": "markdown",
   "id": "074e9c5f",
   "metadata": {},
   "source": [
    "### Feature Engineering"
   ]
  },
  {
   "cell_type": "markdown",
   "id": "713a02d9",
   "metadata": {},
   "source": [
    "For the first step, I'm going to separate the car name and its brand. Then I'm going to remove the car name information and only save the brand"
   ]
  },
  {
   "cell_type": "code",
   "execution_count": 5,
   "id": "1fac53b8",
   "metadata": {},
   "outputs": [],
   "source": [
    "# splitting string by white space (' ') & keeping the 1st index split string (brand)\n",
    "company = cars['CarName'].apply(lambda x : x.split(' ')[0])\n",
    "\n",
    "# Create new column named CompanyName\n",
    "cars.insert(2,\"CompanyName\",company)\n",
    "\n",
    "# Drop the CarName column as I only use the brand information for modelling\n",
    "cars.drop(['CarName', 'car_ID'],axis=1,inplace=True)"
   ]
  },
  {
   "cell_type": "code",
   "execution_count": 6,
   "id": "cf0febf1",
   "metadata": {
    "scrolled": true
   },
   "outputs": [
    {
     "data": {
      "text/plain": [
       "array(['alfa-romero', 'audi', 'bmw', 'chevrolet', 'dodge', 'honda',\n",
       "       'isuzu', 'jaguar', 'maxda', 'mazda', 'buick', 'mercury',\n",
       "       'mitsubishi', 'Nissan', 'nissan', 'peugeot', 'plymouth', 'porsche',\n",
       "       'porcshce', 'renault', 'saab', 'subaru', 'toyota', 'toyouta',\n",
       "       'vokswagen', 'volkswagen', 'vw', 'volvo'], dtype=object)"
      ]
     },
     "execution_count": 6,
     "metadata": {},
     "output_type": "execute_result"
    }
   ],
   "source": [
    "cars.CompanyName.unique()"
   ]
  },
  {
   "cell_type": "markdown",
   "id": "e05fb605",
   "metadata": {},
   "source": [
    "As you may notice that some of the brands has inconsistent name (maxda - mazda, etc..). Therefore I'm going to clean this column"
   ]
  },
  {
   "cell_type": "code",
   "execution_count": 7,
   "id": "3ba157ec",
   "metadata": {},
   "outputs": [
    {
     "data": {
      "text/plain": [
       "28"
      ]
     },
     "execution_count": 7,
     "metadata": {},
     "output_type": "execute_result"
    }
   ],
   "source": [
    "cars.CompanyName.nunique()"
   ]
  },
  {
   "cell_type": "code",
   "execution_count": 8,
   "id": "d7450da8",
   "metadata": {},
   "outputs": [
    {
     "data": {
      "text/plain": [
       "22"
      ]
     },
     "execution_count": 8,
     "metadata": {},
     "output_type": "execute_result"
    }
   ],
   "source": [
    "# Change letter into lowercase\n",
    "cars.CompanyName = cars.CompanyName.str.lower()\n",
    "\n",
    "# Create function to replace into more consistent names \n",
    "def replace_name(former, new):\n",
    "    cars.CompanyName.replace(former, new, inplace = True)\n",
    "    \n",
    "# Change inconsistent names    \n",
    "replace_name('maxda', 'mazda')\n",
    "replace_name('porcshce','porsche')\n",
    "replace_name('toyouta','toyota')\n",
    "replace_name('vokswagen','volkswagen')\n",
    "replace_name('vw','volkswagen')\n",
    "\n",
    "# Checking number of unique names\n",
    "cars.CompanyName.nunique()"
   ]
  },
  {
   "cell_type": "code",
   "execution_count": 9,
   "id": "c19f5805",
   "metadata": {},
   "outputs": [
    {
     "data": {
      "text/plain": [
       "array(['alfa-romero', 'audi', 'bmw', 'chevrolet', 'dodge', 'honda',\n",
       "       'isuzu', 'jaguar', 'mazda', 'buick', 'mercury', 'mitsubishi',\n",
       "       'nissan', 'peugeot', 'plymouth', 'porsche', 'renault', 'saab',\n",
       "       'subaru', 'toyota', 'volkswagen', 'volvo'], dtype=object)"
      ]
     },
     "execution_count": 9,
     "metadata": {},
     "output_type": "execute_result"
    }
   ],
   "source": [
    "cars.CompanyName.unique()"
   ]
  },
  {
   "cell_type": "markdown",
   "id": "19fea793",
   "metadata": {},
   "source": [
    "### EDA"
   ]
  },
  {
   "cell_type": "code",
   "execution_count": 10,
   "id": "b1d7c8d4",
   "metadata": {
    "scrolled": true
   },
   "outputs": [
    {
     "data": {
      "text/html": [
       "<div>\n",
       "<style scoped>\n",
       "    .dataframe tbody tr th:only-of-type {\n",
       "        vertical-align: middle;\n",
       "    }\n",
       "\n",
       "    .dataframe tbody tr th {\n",
       "        vertical-align: top;\n",
       "    }\n",
       "\n",
       "    .dataframe thead th {\n",
       "        text-align: right;\n",
       "    }\n",
       "</style>\n",
       "<table border=\"1\" class=\"dataframe\">\n",
       "  <thead>\n",
       "    <tr style=\"text-align: right;\">\n",
       "      <th></th>\n",
       "      <th>symboling</th>\n",
       "      <th>CompanyName</th>\n",
       "      <th>fueltype</th>\n",
       "      <th>aspiration</th>\n",
       "      <th>doornumber</th>\n",
       "      <th>carbody</th>\n",
       "      <th>drivewheel</th>\n",
       "      <th>enginelocation</th>\n",
       "      <th>wheelbase</th>\n",
       "      <th>carlength</th>\n",
       "      <th>...</th>\n",
       "      <th>enginesize</th>\n",
       "      <th>fuelsystem</th>\n",
       "      <th>boreratio</th>\n",
       "      <th>stroke</th>\n",
       "      <th>compressionratio</th>\n",
       "      <th>horsepower</th>\n",
       "      <th>peakrpm</th>\n",
       "      <th>citympg</th>\n",
       "      <th>highwaympg</th>\n",
       "      <th>price</th>\n",
       "    </tr>\n",
       "  </thead>\n",
       "  <tbody>\n",
       "    <tr>\n",
       "      <th>0</th>\n",
       "      <td>3</td>\n",
       "      <td>alfa-romero</td>\n",
       "      <td>gas</td>\n",
       "      <td>std</td>\n",
       "      <td>two</td>\n",
       "      <td>convertible</td>\n",
       "      <td>rwd</td>\n",
       "      <td>front</td>\n",
       "      <td>88.6</td>\n",
       "      <td>168.8</td>\n",
       "      <td>...</td>\n",
       "      <td>130</td>\n",
       "      <td>mpfi</td>\n",
       "      <td>3.47</td>\n",
       "      <td>2.68</td>\n",
       "      <td>9.0</td>\n",
       "      <td>111</td>\n",
       "      <td>5000</td>\n",
       "      <td>21</td>\n",
       "      <td>27</td>\n",
       "      <td>13495.0</td>\n",
       "    </tr>\n",
       "    <tr>\n",
       "      <th>1</th>\n",
       "      <td>3</td>\n",
       "      <td>alfa-romero</td>\n",
       "      <td>gas</td>\n",
       "      <td>std</td>\n",
       "      <td>two</td>\n",
       "      <td>convertible</td>\n",
       "      <td>rwd</td>\n",
       "      <td>front</td>\n",
       "      <td>88.6</td>\n",
       "      <td>168.8</td>\n",
       "      <td>...</td>\n",
       "      <td>130</td>\n",
       "      <td>mpfi</td>\n",
       "      <td>3.47</td>\n",
       "      <td>2.68</td>\n",
       "      <td>9.0</td>\n",
       "      <td>111</td>\n",
       "      <td>5000</td>\n",
       "      <td>21</td>\n",
       "      <td>27</td>\n",
       "      <td>16500.0</td>\n",
       "    </tr>\n",
       "    <tr>\n",
       "      <th>2</th>\n",
       "      <td>1</td>\n",
       "      <td>alfa-romero</td>\n",
       "      <td>gas</td>\n",
       "      <td>std</td>\n",
       "      <td>two</td>\n",
       "      <td>hatchback</td>\n",
       "      <td>rwd</td>\n",
       "      <td>front</td>\n",
       "      <td>94.5</td>\n",
       "      <td>171.2</td>\n",
       "      <td>...</td>\n",
       "      <td>152</td>\n",
       "      <td>mpfi</td>\n",
       "      <td>2.68</td>\n",
       "      <td>3.47</td>\n",
       "      <td>9.0</td>\n",
       "      <td>154</td>\n",
       "      <td>5000</td>\n",
       "      <td>19</td>\n",
       "      <td>26</td>\n",
       "      <td>16500.0</td>\n",
       "    </tr>\n",
       "    <tr>\n",
       "      <th>3</th>\n",
       "      <td>2</td>\n",
       "      <td>audi</td>\n",
       "      <td>gas</td>\n",
       "      <td>std</td>\n",
       "      <td>four</td>\n",
       "      <td>sedan</td>\n",
       "      <td>fwd</td>\n",
       "      <td>front</td>\n",
       "      <td>99.8</td>\n",
       "      <td>176.6</td>\n",
       "      <td>...</td>\n",
       "      <td>109</td>\n",
       "      <td>mpfi</td>\n",
       "      <td>3.19</td>\n",
       "      <td>3.40</td>\n",
       "      <td>10.0</td>\n",
       "      <td>102</td>\n",
       "      <td>5500</td>\n",
       "      <td>24</td>\n",
       "      <td>30</td>\n",
       "      <td>13950.0</td>\n",
       "    </tr>\n",
       "    <tr>\n",
       "      <th>4</th>\n",
       "      <td>2</td>\n",
       "      <td>audi</td>\n",
       "      <td>gas</td>\n",
       "      <td>std</td>\n",
       "      <td>four</td>\n",
       "      <td>sedan</td>\n",
       "      <td>4wd</td>\n",
       "      <td>front</td>\n",
       "      <td>99.4</td>\n",
       "      <td>176.6</td>\n",
       "      <td>...</td>\n",
       "      <td>136</td>\n",
       "      <td>mpfi</td>\n",
       "      <td>3.19</td>\n",
       "      <td>3.40</td>\n",
       "      <td>8.0</td>\n",
       "      <td>115</td>\n",
       "      <td>5500</td>\n",
       "      <td>18</td>\n",
       "      <td>22</td>\n",
       "      <td>17450.0</td>\n",
       "    </tr>\n",
       "  </tbody>\n",
       "</table>\n",
       "<p>5 rows × 25 columns</p>\n",
       "</div>"
      ],
      "text/plain": [
       "   symboling  CompanyName fueltype aspiration doornumber      carbody  \\\n",
       "0          3  alfa-romero      gas        std        two  convertible   \n",
       "1          3  alfa-romero      gas        std        two  convertible   \n",
       "2          1  alfa-romero      gas        std        two    hatchback   \n",
       "3          2         audi      gas        std       four        sedan   \n",
       "4          2         audi      gas        std       four        sedan   \n",
       "\n",
       "  drivewheel enginelocation  wheelbase  carlength  ...  enginesize  \\\n",
       "0        rwd          front       88.6      168.8  ...         130   \n",
       "1        rwd          front       88.6      168.8  ...         130   \n",
       "2        rwd          front       94.5      171.2  ...         152   \n",
       "3        fwd          front       99.8      176.6  ...         109   \n",
       "4        4wd          front       99.4      176.6  ...         136   \n",
       "\n",
       "   fuelsystem  boreratio stroke compressionratio  horsepower peakrpm  citympg  \\\n",
       "0        mpfi       3.47   2.68              9.0         111    5000       21   \n",
       "1        mpfi       3.47   2.68              9.0         111    5000       21   \n",
       "2        mpfi       2.68   3.47              9.0         154    5000       19   \n",
       "3        mpfi       3.19   3.40             10.0         102    5500       24   \n",
       "4        mpfi       3.19   3.40              8.0         115    5500       18   \n",
       "\n",
       "   highwaympg    price  \n",
       "0          27  13495.0  \n",
       "1          27  16500.0  \n",
       "2          26  16500.0  \n",
       "3          30  13950.0  \n",
       "4          22  17450.0  \n",
       "\n",
       "[5 rows x 25 columns]"
      ]
     },
     "execution_count": 10,
     "metadata": {},
     "output_type": "execute_result"
    }
   ],
   "source": [
    "cars.head()"
   ]
  },
  {
   "cell_type": "code",
   "execution_count": 11,
   "id": "f46f8dc5",
   "metadata": {
    "scrolled": false
   },
   "outputs": [
    {
     "data": {
      "text/html": [
       "<div>\n",
       "<style scoped>\n",
       "    .dataframe tbody tr th:only-of-type {\n",
       "        vertical-align: middle;\n",
       "    }\n",
       "\n",
       "    .dataframe tbody tr th {\n",
       "        vertical-align: top;\n",
       "    }\n",
       "\n",
       "    .dataframe thead th {\n",
       "        text-align: right;\n",
       "    }\n",
       "</style>\n",
       "<table border=\"1\" class=\"dataframe\">\n",
       "  <thead>\n",
       "    <tr style=\"text-align: right;\">\n",
       "      <th></th>\n",
       "      <th>CompanyName</th>\n",
       "      <th>fueltype</th>\n",
       "      <th>aspiration</th>\n",
       "      <th>doornumber</th>\n",
       "      <th>carbody</th>\n",
       "      <th>drivewheel</th>\n",
       "      <th>enginelocation</th>\n",
       "      <th>enginetype</th>\n",
       "      <th>cylindernumber</th>\n",
       "      <th>fuelsystem</th>\n",
       "    </tr>\n",
       "  </thead>\n",
       "  <tbody>\n",
       "    <tr>\n",
       "      <th>count</th>\n",
       "      <td>205</td>\n",
       "      <td>205</td>\n",
       "      <td>205</td>\n",
       "      <td>205</td>\n",
       "      <td>205</td>\n",
       "      <td>205</td>\n",
       "      <td>205</td>\n",
       "      <td>205</td>\n",
       "      <td>205</td>\n",
       "      <td>205</td>\n",
       "    </tr>\n",
       "    <tr>\n",
       "      <th>unique</th>\n",
       "      <td>22</td>\n",
       "      <td>2</td>\n",
       "      <td>2</td>\n",
       "      <td>2</td>\n",
       "      <td>5</td>\n",
       "      <td>3</td>\n",
       "      <td>2</td>\n",
       "      <td>7</td>\n",
       "      <td>7</td>\n",
       "      <td>8</td>\n",
       "    </tr>\n",
       "    <tr>\n",
       "      <th>top</th>\n",
       "      <td>toyota</td>\n",
       "      <td>gas</td>\n",
       "      <td>std</td>\n",
       "      <td>four</td>\n",
       "      <td>sedan</td>\n",
       "      <td>fwd</td>\n",
       "      <td>front</td>\n",
       "      <td>ohc</td>\n",
       "      <td>four</td>\n",
       "      <td>mpfi</td>\n",
       "    </tr>\n",
       "    <tr>\n",
       "      <th>freq</th>\n",
       "      <td>32</td>\n",
       "      <td>185</td>\n",
       "      <td>168</td>\n",
       "      <td>115</td>\n",
       "      <td>96</td>\n",
       "      <td>120</td>\n",
       "      <td>202</td>\n",
       "      <td>148</td>\n",
       "      <td>159</td>\n",
       "      <td>94</td>\n",
       "    </tr>\n",
       "  </tbody>\n",
       "</table>\n",
       "</div>"
      ],
      "text/plain": [
       "       CompanyName fueltype aspiration doornumber carbody drivewheel  \\\n",
       "count          205      205        205        205     205        205   \n",
       "unique          22        2          2          2       5          3   \n",
       "top         toyota      gas        std       four   sedan        fwd   \n",
       "freq            32      185        168        115      96        120   \n",
       "\n",
       "       enginelocation enginetype cylindernumber fuelsystem  \n",
       "count             205        205            205        205  \n",
       "unique              2          7              7          8  \n",
       "top             front        ohc           four       mpfi  \n",
       "freq              202        148            159         94  "
      ]
     },
     "execution_count": 11,
     "metadata": {},
     "output_type": "execute_result"
    }
   ],
   "source": [
    "cars.describe(include = 'object')"
   ]
  },
  {
   "cell_type": "markdown",
   "id": "adaf5804",
   "metadata": {},
   "source": [
    "In this step, I'm going to see our target variable (`price`) distribution"
   ]
  },
  {
   "cell_type": "code",
   "execution_count": 12,
   "id": "65e41c8a",
   "metadata": {},
   "outputs": [
    {
     "data": {
      "image/png": "[encoded data removed]",
      "text/plain": [
       "<Figure size 700x300 with 1 Axes>"
      ]
     },
     "metadata": {},
     "output_type": "display_data"
    },
    {
     "name": "stdout",
     "output_type": "stream",
     "text": [
      "count      205.000000\n",
      "mean     13276.710571\n",
      "std       7988.852332\n",
      "min       5118.000000\n",
      "25%       7788.000000\n",
      "50%      10295.000000\n",
      "75%      16503.000000\n",
      "max      45400.000000\n",
      "Name: price, dtype: float64\n"
     ]
    }
   ],
   "source": [
    "plt.figure(figsize=(7,3))\n",
    "plt.title('Car Price Distribution')\n",
    "sns.boxplot(y=cars.price)\n",
    "plt.show()\n",
    "print(cars.price.describe())"
   ]
  },
  {
   "cell_type": "code",
   "execution_count": 13,
   "id": "91615241",
   "metadata": {
    "scrolled": true
   },
   "outputs": [
    {
     "data": {
      "image/png": "[encoded data removed]",
      "text/plain": [
       "<Figure size 1000x300 with 1 Axes>"
      ]
     },
     "metadata": {},
     "output_type": "display_data"
    }
   ],
   "source": [
    "plt.figure(figsize=(10,3))\n",
    "plt.title('Car Price Distribution Plot')\n",
    "sns.histplot(cars.price)\n",
    "plt.show()"
   ]
  },
  {
   "cell_type": "markdown",
   "id": "bf11c268",
   "metadata": {},
   "source": [
    "As we can see above, our price data distribution has a skewed distribution with median value around 10.295, 75% of our data is arounf 16.503, and the price is considered as an outliers when the price above 30.000"
   ]
  },
  {
   "cell_type": "markdown",
   "id": "a71421d2",
   "metadata": {},
   "source": [
    "### Regression Model"
   ]
  },
  {
   "cell_type": "markdown",
   "id": "bbd41a14",
   "metadata": {},
   "source": [
    "Since the independent variable (i.e Price) is continuous numerical variable, and there is many dependat variables, we we will use Multiple linear regression\n",
    "\n",
    "**A. Key assumptions of multiple regression:**\n",
    "\n",
    "To perform multiple linear regression, the following assumptions must be met:\n",
    "\n",
    "--- Before model construction: ---\n",
    "\n",
    "1. Linear relationship: The dependent variable Y (i.e Price) has a linear relationship with the independent variables, and to verify this, one must ensure that the XY dispersion graph is linear.\n",
    "2. No multi-collinearity: Multiple regression assumes that independent variables X are not strongly correlated with each other. This assumption is tested using Variance Inflation Factor (VIF) or using Correlation Matrix .\n",
    "\n",
    "--- After: Residual analysis of the model ---\n",
    "\n",
    "1. Normality of Error Distribution\n",
    "2. Independence of errors\n",
    "3. Homo-scedasticity\n",
    "\n",
    "### Numerical Independent Variables\n",
    "\n",
    "#### Linear Relationship"
   ]
  },
  {
   "cell_type": "code",
   "execution_count": 14,
   "id": "20afb8b8",
   "metadata": {},
   "outputs": [],
   "source": [
    "import scipy\n",
    "from scipy.stats import pearsonr"
   ]
  },
  {
   "cell_type": "code",
   "execution_count": 15,
   "id": "ec8d9205",
   "metadata": {},
   "outputs": [],
   "source": [
    "# Create function to calculate pearson correlation between X & Y variables\n",
    "def calculate_pearson_coef(column):\n",
    "    pearson_coeff, p_value = pearsonr(cars[column],cars['price'])\n",
    "    return column, pearson_coeff*100"
   ]
  },
  {
   "cell_type": "code",
   "execution_count": 16,
   "id": "03b66aaf",
   "metadata": {},
   "outputs": [],
   "source": [
    "# Choose only numeric variables\n",
    "numeric_features = cars.select_dtypes(include = 'number').columns\n",
    "\n",
    "#exclude symboling and price column (Price as Y variable itself, and symboling is a categorical values)\n",
    "numeric_features = numeric_features.drop(['symboling', 'price'])"
   ]
  },
  {
   "cell_type": "code",
   "execution_count": 17,
   "id": "2df93b8f",
   "metadata": {
    "scrolled": true
   },
   "outputs": [
    {
     "data": {
      "text/plain": [
       "[('wheelbase', 57.78155982921503),\n",
       " ('carlength', 68.2920015677962),\n",
       " ('carwidth', 75.93252997415115),\n",
       " ('carheight', 11.933622657049447),\n",
       " ('curbweight', 83.53048793372967),\n",
       " ('enginesize', 87.41448025245117),\n",
       " ('boreratio', 55.317323679844364),\n",
       " ('stroke', 7.9443083881931),\n",
       " ('compressionratio', 6.798350579944261),\n",
       " ('horsepower', 80.81388225362215),\n",
       " ('peakrpm', -8.526715027785686),\n",
       " ('citympg', -68.575133602704),\n",
       " ('highwaympg', -69.75990916465562)]"
      ]
     },
     "execution_count": 17,
     "metadata": {},
     "output_type": "execute_result"
    }
   ],
   "source": [
    "[calculate_pearson_coef(column) for column in numeric_features]"
   ]
  },
  {
   "cell_type": "markdown",
   "id": "4e8dbd7a",
   "metadata": {},
   "source": [
    "**Conclusion**\n",
    "\n",
    "(+) positively correlated variables with Price: wheelbase, carlenght, carwidth, curbweight, enginesize, boreratio, horesepower\n",
    "\n",
    "(-) negatively correlated variables with Price: citympg, highwaympg\n",
    "\n",
    "These variables should be kept for a better model, and the other variables should be ignored as they are not correlated with Price"
   ]
  },
  {
   "cell_type": "markdown",
   "id": "e6d6020e",
   "metadata": {},
   "source": [
    "#### Multicolinearity"
   ]
  },
  {
   "cell_type": "code",
   "execution_count": 18,
   "id": "8c03c61f",
   "metadata": {},
   "outputs": [],
   "source": [
    "def heatmap(x,y,dataframe):\n",
    "    sns.heatmap(dataframe.corr(),cmap=\"YlGnBu\",annot=True)\n",
    "    plt.show()"
   ]
  },
  {
   "cell_type": "code",
   "execution_count": 119,
   "id": "0fcb487d",
   "metadata": {},
   "outputs": [
    {
     "data": {
      "image/png": "[encoded data removed]",
      "text/plain": [
       "<Figure size 640x480 with 2 Axes>"
      ]
     },
     "metadata": {},
     "output_type": "display_data"
    }
   ],
   "source": [
    "heatmap(20,20,cars.loc[:,numeric_features])"
   ]
  },
  {
   "cell_type": "markdown",
   "id": "cef2ff83",
   "metadata": {},
   "source": [
    "**Wheelbase , carlength, carwidth and curbweight** [ 0.80 - 0.88 ] are very correlated and we have to keep only one between them. \n",
    "\n",
    "**Horsepower and enginesize** are highly correlated and we need to keep only one. \n",
    "\n",
    "**citympg and highwaympg** are highly correlated and we need to keep one of them."
   ]
  },
  {
   "cell_type": "markdown",
   "id": "4dd01321",
   "metadata": {},
   "source": [
    "#### Categorical Variables\n",
    "\n",
    "Dummy variables are used to convert a categorical variable with two or more levels into a numerical variable that can be used in regression analysis."
   ]
  },
  {
   "cell_type": "code",
   "execution_count": 20,
   "id": "ac8c6622",
   "metadata": {},
   "outputs": [
    {
     "data": {
      "text/html": [
       "<div>\n",
       "<style scoped>\n",
       "    .dataframe tbody tr th:only-of-type {\n",
       "        vertical-align: middle;\n",
       "    }\n",
       "\n",
       "    .dataframe tbody tr th {\n",
       "        vertical-align: top;\n",
       "    }\n",
       "\n",
       "    .dataframe thead th {\n",
       "        text-align: right;\n",
       "    }\n",
       "</style>\n",
       "<table border=\"1\" class=\"dataframe\">\n",
       "  <thead>\n",
       "    <tr style=\"text-align: right;\">\n",
       "      <th></th>\n",
       "      <th>CompanyName</th>\n",
       "      <th>fueltype</th>\n",
       "      <th>aspiration</th>\n",
       "      <th>doornumber</th>\n",
       "      <th>carbody</th>\n",
       "      <th>drivewheel</th>\n",
       "      <th>enginelocation</th>\n",
       "      <th>enginetype</th>\n",
       "      <th>cylindernumber</th>\n",
       "      <th>fuelsystem</th>\n",
       "    </tr>\n",
       "  </thead>\n",
       "  <tbody>\n",
       "    <tr>\n",
       "      <th>count</th>\n",
       "      <td>205</td>\n",
       "      <td>205</td>\n",
       "      <td>205</td>\n",
       "      <td>205</td>\n",
       "      <td>205</td>\n",
       "      <td>205</td>\n",
       "      <td>205</td>\n",
       "      <td>205</td>\n",
       "      <td>205</td>\n",
       "      <td>205</td>\n",
       "    </tr>\n",
       "    <tr>\n",
       "      <th>unique</th>\n",
       "      <td>22</td>\n",
       "      <td>2</td>\n",
       "      <td>2</td>\n",
       "      <td>2</td>\n",
       "      <td>5</td>\n",
       "      <td>3</td>\n",
       "      <td>2</td>\n",
       "      <td>7</td>\n",
       "      <td>7</td>\n",
       "      <td>8</td>\n",
       "    </tr>\n",
       "    <tr>\n",
       "      <th>top</th>\n",
       "      <td>toyota</td>\n",
       "      <td>gas</td>\n",
       "      <td>std</td>\n",
       "      <td>four</td>\n",
       "      <td>sedan</td>\n",
       "      <td>fwd</td>\n",
       "      <td>front</td>\n",
       "      <td>ohc</td>\n",
       "      <td>four</td>\n",
       "      <td>mpfi</td>\n",
       "    </tr>\n",
       "    <tr>\n",
       "      <th>freq</th>\n",
       "      <td>32</td>\n",
       "      <td>185</td>\n",
       "      <td>168</td>\n",
       "      <td>115</td>\n",
       "      <td>96</td>\n",
       "      <td>120</td>\n",
       "      <td>202</td>\n",
       "      <td>148</td>\n",
       "      <td>159</td>\n",
       "      <td>94</td>\n",
       "    </tr>\n",
       "  </tbody>\n",
       "</table>\n",
       "</div>"
      ],
      "text/plain": [
       "       CompanyName fueltype aspiration doornumber carbody drivewheel  \\\n",
       "count          205      205        205        205     205        205   \n",
       "unique          22        2          2          2       5          3   \n",
       "top         toyota      gas        std       four   sedan        fwd   \n",
       "freq            32      185        168        115      96        120   \n",
       "\n",
       "       enginelocation enginetype cylindernumber fuelsystem  \n",
       "count             205        205            205        205  \n",
       "unique              2          7              7          8  \n",
       "top             front        ohc           four       mpfi  \n",
       "freq              202        148            159         94  "
      ]
     },
     "execution_count": 20,
     "metadata": {},
     "output_type": "execute_result"
    }
   ],
   "source": [
    "cars.select_dtypes(include = 'object').describe()"
   ]
  },
  {
   "cell_type": "markdown",
   "id": "8a97de32",
   "metadata": {},
   "source": [
    "#### Dummy Variable for categoric columns"
   ]
  },
  {
   "cell_type": "markdown",
   "id": "eaa4863c",
   "metadata": {},
   "source": [
    "Notice that some of the variables have only 2 unique values, therefore we're going to convert them into:\n",
    "\n",
    "**fueltype {\" gas \": 1, \" diesel \": 0}**\n",
    "\n",
    "**suction {\" std \": 1, \" turbo \": 0}**\n",
    "\n",
    "**doornumber {\" two \": 1, \" oven \": 0}**\n",
    "\n",
    "**enginelocation {\" front \": 1, \" rear \": 0}**"
   ]
  },
  {
   "cell_type": "code",
   "execution_count": 21,
   "id": "50250462",
   "metadata": {},
   "outputs": [],
   "source": [
    "#Create dummy variable function\n",
    "def dummies(x,df):  \n",
    "    \n",
    "    # Set initial column names as prefix to new column\n",
    "    temp = pd.get_dummies(df[x], prefix=x, drop_first = True)\n",
    "    \n",
    "    # performing dummy variable concatenation to data frame\n",
    "    df = pd.concat([df, temp], axis = 1)\n",
    "    \n",
    "    # Drop initial column\n",
    "    df.drop([x], axis = 1, inplace = True)\n",
    "    return df"
   ]
  },
  {
   "cell_type": "code",
   "execution_count": 22,
   "id": "d5a41b69",
   "metadata": {},
   "outputs": [],
   "source": [
    "cars_df = cars.copy()\n",
    "\n",
    "cars_df = dummies('symboling',cars_df)\n",
    "cars_df = dummies('CompanyName',cars_df)\n",
    "cars_df = dummies('fueltype',cars_df)\n",
    "cars_df = dummies('aspiration',cars_df)\n",
    "cars_df = dummies('doornumber',cars_df)\n",
    "cars_df = dummies('carbody',cars_df)\n",
    "cars_df = dummies('drivewheel',cars_df)\n",
    "cars_df = dummies('enginelocation',cars_df)\n",
    "cars_df = dummies('enginetype',cars_df)\n",
    "cars_df = dummies('cylindernumber',cars_df)\n",
    "cars_df = dummies('fuelsystem',cars_df)"
   ]
  },
  {
   "cell_type": "code",
   "execution_count": 23,
   "id": "8a767976",
   "metadata": {
    "scrolled": false
   },
   "outputs": [
    {
     "data": {
      "text/html": [
       "<div>\n",
       "<style scoped>\n",
       "    .dataframe tbody tr th:only-of-type {\n",
       "        vertical-align: middle;\n",
       "    }\n",
       "\n",
       "    .dataframe tbody tr th {\n",
       "        vertical-align: top;\n",
       "    }\n",
       "\n",
       "    .dataframe thead th {\n",
       "        text-align: right;\n",
       "    }\n",
       "</style>\n",
       "<table border=\"1\" class=\"dataframe\">\n",
       "  <thead>\n",
       "    <tr style=\"text-align: right;\">\n",
       "      <th></th>\n",
       "      <th>symboling_1</th>\n",
       "      <th>symboling_2</th>\n",
       "      <th>symboling_3</th>\n",
       "      <th>CompanyName_audi</th>\n",
       "      <th>CompanyName_bmw</th>\n",
       "      <th>CompanyName_buick</th>\n",
       "      <th>CompanyName_chevrolet</th>\n",
       "      <th>CompanyName_dodge</th>\n",
       "      <th>CompanyName_honda</th>\n",
       "      <th>CompanyName_isuzu</th>\n",
       "      <th>CompanyName_jaguar</th>\n",
       "      <th>CompanyName_mazda</th>\n",
       "    </tr>\n",
       "  </thead>\n",
       "  <tbody>\n",
       "    <tr>\n",
       "      <th>0</th>\n",
       "      <td>0</td>\n",
       "      <td>0</td>\n",
       "      <td>1</td>\n",
       "      <td>0</td>\n",
       "      <td>0</td>\n",
       "      <td>0</td>\n",
       "      <td>0</td>\n",
       "      <td>0</td>\n",
       "      <td>0</td>\n",
       "      <td>0</td>\n",
       "      <td>0</td>\n",
       "      <td>0</td>\n",
       "    </tr>\n",
       "    <tr>\n",
       "      <th>1</th>\n",
       "      <td>0</td>\n",
       "      <td>0</td>\n",
       "      <td>1</td>\n",
       "      <td>0</td>\n",
       "      <td>0</td>\n",
       "      <td>0</td>\n",
       "      <td>0</td>\n",
       "      <td>0</td>\n",
       "      <td>0</td>\n",
       "      <td>0</td>\n",
       "      <td>0</td>\n",
       "      <td>0</td>\n",
       "    </tr>\n",
       "    <tr>\n",
       "      <th>2</th>\n",
       "      <td>1</td>\n",
       "      <td>0</td>\n",
       "      <td>0</td>\n",
       "      <td>0</td>\n",
       "      <td>0</td>\n",
       "      <td>0</td>\n",
       "      <td>0</td>\n",
       "      <td>0</td>\n",
       "      <td>0</td>\n",
       "      <td>0</td>\n",
       "      <td>0</td>\n",
       "      <td>0</td>\n",
       "    </tr>\n",
       "    <tr>\n",
       "      <th>3</th>\n",
       "      <td>0</td>\n",
       "      <td>1</td>\n",
       "      <td>0</td>\n",
       "      <td>1</td>\n",
       "      <td>0</td>\n",
       "      <td>0</td>\n",
       "      <td>0</td>\n",
       "      <td>0</td>\n",
       "      <td>0</td>\n",
       "      <td>0</td>\n",
       "      <td>0</td>\n",
       "      <td>0</td>\n",
       "    </tr>\n",
       "    <tr>\n",
       "      <th>4</th>\n",
       "      <td>0</td>\n",
       "      <td>1</td>\n",
       "      <td>0</td>\n",
       "      <td>1</td>\n",
       "      <td>0</td>\n",
       "      <td>0</td>\n",
       "      <td>0</td>\n",
       "      <td>0</td>\n",
       "      <td>0</td>\n",
       "      <td>0</td>\n",
       "      <td>0</td>\n",
       "      <td>0</td>\n",
       "    </tr>\n",
       "  </tbody>\n",
       "</table>\n",
       "</div>"
      ],
      "text/plain": [
       "   symboling_1  symboling_2  symboling_3  CompanyName_audi  CompanyName_bmw  \\\n",
       "0            0            0            1                 0                0   \n",
       "1            0            0            1                 0                0   \n",
       "2            1            0            0                 0                0   \n",
       "3            0            1            0                 1                0   \n",
       "4            0            1            0                 1                0   \n",
       "\n",
       "   CompanyName_buick  CompanyName_chevrolet  CompanyName_dodge  \\\n",
       "0                  0                      0                  0   \n",
       "1                  0                      0                  0   \n",
       "2                  0                      0                  0   \n",
       "3                  0                      0                  0   \n",
       "4                  0                      0                  0   \n",
       "\n",
       "   CompanyName_honda  CompanyName_isuzu  CompanyName_jaguar  CompanyName_mazda  \n",
       "0                  0                  0                   0                  0  \n",
       "1                  0                  0                   0                  0  \n",
       "2                  0                  0                   0                  0  \n",
       "3                  0                  0                   0                  0  \n",
       "4                  0                  0                   0                  0  "
      ]
     },
     "execution_count": 23,
     "metadata": {},
     "output_type": "execute_result"
    }
   ],
   "source": [
    "# dummy variables\n",
    "cars_df.iloc[:5,16:28]"
   ]
  },
  {
   "cell_type": "markdown",
   "id": "700ed9f9",
   "metadata": {},
   "source": [
    "### Model Building"
   ]
  },
  {
   "cell_type": "markdown",
   "id": "8b7ed739",
   "metadata": {},
   "source": [
    "### Splitting Data & Feature Scaling"
   ]
  },
  {
   "cell_type": "code",
   "execution_count": 24,
   "id": "00ce2400",
   "metadata": {},
   "outputs": [],
   "source": [
    "np.random.seed(100)\n",
    "cars_train, cars_test= train_test_split(cars_df, train_size=0.7, test_size=0.3, random_state = 100)"
   ]
  },
  {
   "cell_type": "code",
   "execution_count": 25,
   "id": "85985a23",
   "metadata": {},
   "outputs": [
    {
     "data": {
      "text/html": [
       "<div>\n",
       "<style scoped>\n",
       "    .dataframe tbody tr th:only-of-type {\n",
       "        vertical-align: middle;\n",
       "    }\n",
       "\n",
       "    .dataframe tbody tr th {\n",
       "        vertical-align: top;\n",
       "    }\n",
       "\n",
       "    .dataframe thead th {\n",
       "        text-align: right;\n",
       "    }\n",
       "</style>\n",
       "<table border=\"1\" class=\"dataframe\">\n",
       "  <thead>\n",
       "    <tr style=\"text-align: right;\">\n",
       "      <th></th>\n",
       "      <th>wheelbase</th>\n",
       "      <th>carlength</th>\n",
       "      <th>carwidth</th>\n",
       "      <th>carheight</th>\n",
       "      <th>curbweight</th>\n",
       "      <th>enginesize</th>\n",
       "      <th>boreratio</th>\n",
       "      <th>stroke</th>\n",
       "      <th>compressionratio</th>\n",
       "      <th>horsepower</th>\n",
       "      <th>peakrpm</th>\n",
       "      <th>citympg</th>\n",
       "      <th>highwaympg</th>\n",
       "      <th>price</th>\n",
       "    </tr>\n",
       "  </thead>\n",
       "  <tbody>\n",
       "    <tr>\n",
       "      <th>0</th>\n",
       "      <td>88.6</td>\n",
       "      <td>168.8</td>\n",
       "      <td>64.1</td>\n",
       "      <td>48.8</td>\n",
       "      <td>2548</td>\n",
       "      <td>130</td>\n",
       "      <td>3.47</td>\n",
       "      <td>2.68</td>\n",
       "      <td>9.0</td>\n",
       "      <td>111</td>\n",
       "      <td>5000</td>\n",
       "      <td>21</td>\n",
       "      <td>27</td>\n",
       "      <td>13495.0</td>\n",
       "    </tr>\n",
       "    <tr>\n",
       "      <th>1</th>\n",
       "      <td>88.6</td>\n",
       "      <td>168.8</td>\n",
       "      <td>64.1</td>\n",
       "      <td>48.8</td>\n",
       "      <td>2548</td>\n",
       "      <td>130</td>\n",
       "      <td>3.47</td>\n",
       "      <td>2.68</td>\n",
       "      <td>9.0</td>\n",
       "      <td>111</td>\n",
       "      <td>5000</td>\n",
       "      <td>21</td>\n",
       "      <td>27</td>\n",
       "      <td>16500.0</td>\n",
       "    </tr>\n",
       "    <tr>\n",
       "      <th>2</th>\n",
       "      <td>94.5</td>\n",
       "      <td>171.2</td>\n",
       "      <td>65.5</td>\n",
       "      <td>52.4</td>\n",
       "      <td>2823</td>\n",
       "      <td>152</td>\n",
       "      <td>2.68</td>\n",
       "      <td>3.47</td>\n",
       "      <td>9.0</td>\n",
       "      <td>154</td>\n",
       "      <td>5000</td>\n",
       "      <td>19</td>\n",
       "      <td>26</td>\n",
       "      <td>16500.0</td>\n",
       "    </tr>\n",
       "  </tbody>\n",
       "</table>\n",
       "</div>"
      ],
      "text/plain": [
       "   wheelbase  carlength  carwidth  carheight  curbweight  enginesize  \\\n",
       "0       88.6      168.8      64.1       48.8        2548         130   \n",
       "1       88.6      168.8      64.1       48.8        2548         130   \n",
       "2       94.5      171.2      65.5       52.4        2823         152   \n",
       "\n",
       "   boreratio  stroke  compressionratio  horsepower  peakrpm  citympg  \\\n",
       "0       3.47    2.68               9.0         111     5000       21   \n",
       "1       3.47    2.68               9.0         111     5000       21   \n",
       "2       2.68    3.47               9.0         154     5000       19   \n",
       "\n",
       "   highwaympg    price  \n",
       "0          27  13495.0  \n",
       "1          27  16500.0  \n",
       "2          26  16500.0  "
      ]
     },
     "execution_count": 25,
     "metadata": {},
     "output_type": "execute_result"
    }
   ],
   "source": [
    "# Column index which needs to be scaled\n",
    "cars_df.iloc[:3,:14]"
   ]
  },
  {
   "cell_type": "code",
   "execution_count": 26,
   "id": "4e815f77",
   "metadata": {},
   "outputs": [
    {
     "data": {
      "text/html": [
       "<div>\n",
       "<style scoped>\n",
       "    .dataframe tbody tr th:only-of-type {\n",
       "        vertical-align: middle;\n",
       "    }\n",
       "\n",
       "    .dataframe tbody tr th {\n",
       "        vertical-align: top;\n",
       "    }\n",
       "\n",
       "    .dataframe thead th {\n",
       "        text-align: right;\n",
       "    }\n",
       "</style>\n",
       "<table border=\"1\" class=\"dataframe\">\n",
       "  <thead>\n",
       "    <tr style=\"text-align: right;\">\n",
       "      <th></th>\n",
       "      <th>wheelbase</th>\n",
       "      <th>carlength</th>\n",
       "      <th>carwidth</th>\n",
       "      <th>carheight</th>\n",
       "      <th>curbweight</th>\n",
       "      <th>enginesize</th>\n",
       "      <th>boreratio</th>\n",
       "      <th>stroke</th>\n",
       "      <th>compressionratio</th>\n",
       "      <th>horsepower</th>\n",
       "      <th>...</th>\n",
       "      <th>cylindernumber_three</th>\n",
       "      <th>cylindernumber_twelve</th>\n",
       "      <th>cylindernumber_two</th>\n",
       "      <th>fuelsystem_2bbl</th>\n",
       "      <th>fuelsystem_4bbl</th>\n",
       "      <th>fuelsystem_idi</th>\n",
       "      <th>fuelsystem_mfi</th>\n",
       "      <th>fuelsystem_mpfi</th>\n",
       "      <th>fuelsystem_spdi</th>\n",
       "      <th>fuelsystem_spfi</th>\n",
       "    </tr>\n",
       "  </thead>\n",
       "  <tbody>\n",
       "    <tr>\n",
       "      <th>122</th>\n",
       "      <td>-0.811836</td>\n",
       "      <td>-0.487238</td>\n",
       "      <td>-0.924500</td>\n",
       "      <td>-1.134628</td>\n",
       "      <td>-0.642128</td>\n",
       "      <td>-0.660242</td>\n",
       "      <td>-1.297329</td>\n",
       "      <td>-0.064443</td>\n",
       "      <td>-0.172569</td>\n",
       "      <td>-0.872898</td>\n",
       "      <td>...</td>\n",
       "      <td>0</td>\n",
       "      <td>0</td>\n",
       "      <td>0</td>\n",
       "      <td>1</td>\n",
       "      <td>0</td>\n",
       "      <td>0</td>\n",
       "      <td>0</td>\n",
       "      <td>0</td>\n",
       "      <td>0</td>\n",
       "      <td>0</td>\n",
       "    </tr>\n",
       "    <tr>\n",
       "      <th>125</th>\n",
       "      <td>-0.677177</td>\n",
       "      <td>-0.359789</td>\n",
       "      <td>1.114978</td>\n",
       "      <td>-1.382026</td>\n",
       "      <td>0.439415</td>\n",
       "      <td>0.637806</td>\n",
       "      <td>2.432256</td>\n",
       "      <td>-0.449757</td>\n",
       "      <td>-0.146125</td>\n",
       "      <td>1.021826</td>\n",
       "      <td>...</td>\n",
       "      <td>0</td>\n",
       "      <td>0</td>\n",
       "      <td>0</td>\n",
       "      <td>0</td>\n",
       "      <td>0</td>\n",
       "      <td>0</td>\n",
       "      <td>0</td>\n",
       "      <td>1</td>\n",
       "      <td>0</td>\n",
       "      <td>0</td>\n",
       "    </tr>\n",
       "    <tr>\n",
       "      <th>166</th>\n",
       "      <td>-0.677177</td>\n",
       "      <td>-0.375720</td>\n",
       "      <td>-0.833856</td>\n",
       "      <td>-0.392434</td>\n",
       "      <td>-0.441296</td>\n",
       "      <td>-0.660242</td>\n",
       "      <td>-0.259197</td>\n",
       "      <td>-0.546085</td>\n",
       "      <td>-0.172569</td>\n",
       "      <td>0.238673</td>\n",
       "      <td>...</td>\n",
       "      <td>0</td>\n",
       "      <td>0</td>\n",
       "      <td>0</td>\n",
       "      <td>0</td>\n",
       "      <td>0</td>\n",
       "      <td>0</td>\n",
       "      <td>0</td>\n",
       "      <td>1</td>\n",
       "      <td>0</td>\n",
       "      <td>0</td>\n",
       "    </tr>\n",
       "    <tr>\n",
       "      <th>1</th>\n",
       "      <td>-1.670284</td>\n",
       "      <td>-0.367754</td>\n",
       "      <td>-0.788535</td>\n",
       "      <td>-1.959288</td>\n",
       "      <td>0.015642</td>\n",
       "      <td>0.123485</td>\n",
       "      <td>0.625138</td>\n",
       "      <td>-1.830463</td>\n",
       "      <td>-0.278345</td>\n",
       "      <td>0.213410</td>\n",
       "      <td>...</td>\n",
       "      <td>0</td>\n",
       "      <td>0</td>\n",
       "      <td>0</td>\n",
       "      <td>0</td>\n",
       "      <td>0</td>\n",
       "      <td>0</td>\n",
       "      <td>0</td>\n",
       "      <td>1</td>\n",
       "      <td>0</td>\n",
       "      <td>0</td>\n",
       "    </tr>\n",
       "    <tr>\n",
       "      <th>199</th>\n",
       "      <td>0.972390</td>\n",
       "      <td>1.225364</td>\n",
       "      <td>0.616439</td>\n",
       "      <td>1.627983</td>\n",
       "      <td>1.137720</td>\n",
       "      <td>0.123485</td>\n",
       "      <td>1.201877</td>\n",
       "      <td>-0.321319</td>\n",
       "      <td>-0.675002</td>\n",
       "      <td>1.501822</td>\n",
       "      <td>...</td>\n",
       "      <td>0</td>\n",
       "      <td>0</td>\n",
       "      <td>0</td>\n",
       "      <td>0</td>\n",
       "      <td>0</td>\n",
       "      <td>0</td>\n",
       "      <td>0</td>\n",
       "      <td>1</td>\n",
       "      <td>0</td>\n",
       "      <td>0</td>\n",
       "    </tr>\n",
       "  </tbody>\n",
       "</table>\n",
       "<p>5 rows × 69 columns</p>\n",
       "</div>"
      ],
      "text/plain": [
       "     wheelbase  carlength  carwidth  carheight  curbweight  enginesize  \\\n",
       "122  -0.811836  -0.487238 -0.924500  -1.134628   -0.642128   -0.660242   \n",
       "125  -0.677177  -0.359789  1.114978  -1.382026    0.439415    0.637806   \n",
       "166  -0.677177  -0.375720 -0.833856  -0.392434   -0.441296   -0.660242   \n",
       "1    -1.670284  -0.367754 -0.788535  -1.959288    0.015642    0.123485   \n",
       "199   0.972390   1.225364  0.616439   1.627983    1.137720    0.123485   \n",
       "\n",
       "     boreratio    stroke  compressionratio  horsepower  ...  \\\n",
       "122  -1.297329 -0.064443         -0.172569   -0.872898  ...   \n",
       "125   2.432256 -0.449757         -0.146125    1.021826  ...   \n",
       "166  -0.259197 -0.546085         -0.172569    0.238673  ...   \n",
       "1     0.625138 -1.830463         -0.278345    0.213410  ...   \n",
       "199   1.201877 -0.321319         -0.675002    1.501822  ...   \n",
       "\n",
       "     cylindernumber_three  cylindernumber_twelve  cylindernumber_two  \\\n",
       "122                     0                      0                   0   \n",
       "125                     0                      0                   0   \n",
       "166                     0                      0                   0   \n",
       "1                       0                      0                   0   \n",
       "199                     0                      0                   0   \n",
       "\n",
       "     fuelsystem_2bbl  fuelsystem_4bbl  fuelsystem_idi  fuelsystem_mfi  \\\n",
       "122                1                0               0               0   \n",
       "125                0                0               0               0   \n",
       "166                0                0               0               0   \n",
       "1                  0                0               0               0   \n",
       "199                0                0               0               0   \n",
       "\n",
       "     fuelsystem_mpfi  fuelsystem_spdi  fuelsystem_spfi  \n",
       "122                0                0                0  \n",
       "125                1                0                0  \n",
       "166                1                0                0  \n",
       "1                  1                0                0  \n",
       "199                1                0                0  \n",
       "\n",
       "[5 rows x 69 columns]"
      ]
     },
     "execution_count": 26,
     "metadata": {},
     "output_type": "execute_result"
    }
   ],
   "source": [
    "# Scaling values to evade multicolinearity\n",
    "sc = StandardScaler() \n",
    "\n",
    "col_to_scale = cars_df.iloc[:,:14].columns\n",
    "\n",
    "cars_train[col_to_scale] = sc.fit_transform(cars_train[col_to_scale])\n",
    "cars_test[col_to_scale] = sc.fit_transform(cars_test[col_to_scale])\n",
    "\n",
    "cars_train.head()"
   ]
  },
  {
   "cell_type": "code",
   "execution_count": 27,
   "id": "aea73623",
   "metadata": {},
   "outputs": [],
   "source": [
    "y_train = cars_train.loc[:,cars_train.columns == 'price']\n",
    "\n",
    "X_train = cars_train.loc[:, cars_train.columns != 'price']"
   ]
  },
  {
   "cell_type": "code",
   "execution_count": 28,
   "id": "14ca41f0",
   "metadata": {},
   "outputs": [],
   "source": [
    "y_test = cars_test.loc[:,cars_test.columns == 'price']\n",
    "\n",
    "X_test = cars_test.loc[:, cars_test.columns != 'price']"
   ]
  },
  {
   "cell_type": "markdown",
   "id": "7108955f",
   "metadata": {},
   "source": [
    "### Regression Model"
   ]
  },
  {
   "cell_type": "markdown",
   "id": "2a08ea49",
   "metadata": {},
   "source": [
    "### RFE\n",
    "\n",
    "RFE (Recursive Feature Elimination) is a feature selection method used in data modeling. It works by recursively removing features from the input data and evaluating the model performance using the remaining features. The process continues until the desired number of features is reached or until the model performance stops improving"
   ]
  },
  {
   "cell_type": "code",
   "execution_count": 29,
   "id": "e7f5ae8a",
   "metadata": {},
   "outputs": [],
   "source": [
    "from sklearn.feature_selection import RFE\n",
    "from sklearn.linear_model import LinearRegression\n",
    "from statsmodels.stats.outliers_influence import variance_inflation_factor"
   ]
  },
  {
   "cell_type": "code",
   "execution_count": 30,
   "id": "6fbf344a",
   "metadata": {},
   "outputs": [
    {
     "data": {
      "text/html": [
       "<style>#sk-container-id-1 {color: black;background-color: white;}#sk-container-id-1 pre{padding: 0;}#sk-container-id-1 div.sk-toggleable {background-color: white;}#sk-container-id-1 label.sk-toggleable__label {cursor: pointer;display: block;width: 100%;margin-bottom: 0;padding: 0.3em;box-sizing: border-box;text-align: center;}#sk-container-id-1 label.sk-toggleable__label-arrow:before {content: \"▸\";float: left;margin-right: 0.25em;color: #696969;}#sk-container-id-1 label.sk-toggleable__label-arrow:hover:before {color: black;}#sk-container-id-1 div.sk-estimator:hover label.sk-toggleable__label-arrow:before {color: black;}#sk-container-id-1 div.sk-toggleable__content {max-height: 0;max-width: 0;overflow: hidden;text-align: left;background-color: #f0f8ff;}#sk-container-id-1 div.sk-toggleable__content pre {margin: 0.2em;color: black;border-radius: 0.25em;background-color: #f0f8ff;}#sk-container-id-1 input.sk-toggleable__control:checked~div.sk-toggleable__content {max-height: 200px;max-width: 100%;overflow: auto;}#sk-container-id-1 input.sk-toggleable__control:checked~label.sk-toggleable__label-arrow:before {content: \"▾\";}#sk-container-id-1 div.sk-estimator input.sk-toggleable__control:checked~label.sk-toggleable__label {background-color: #d4ebff;}#sk-container-id-1 div.sk-label input.sk-toggleable__control:checked~label.sk-toggleable__label {background-color: #d4ebff;}#sk-container-id-1 input.sk-hidden--visually {border: 0;clip: rect(1px 1px 1px 1px);clip: rect(1px, 1px, 1px, 1px);height: 1px;margin: -1px;overflow: hidden;padding: 0;position: absolute;width: 1px;}#sk-container-id-1 div.sk-estimator {font-family: monospace;background-color: #f0f8ff;border: 1px dotted black;border-radius: 0.25em;box-sizing: border-box;margin-bottom: 0.5em;}#sk-container-id-1 div.sk-estimator:hover {background-color: #d4ebff;}#sk-container-id-1 div.sk-parallel-item::after {content: \"\";width: 100%;border-bottom: 1px solid gray;flex-grow: 1;}#sk-container-id-1 div.sk-label:hover label.sk-toggleable__label {background-color: #d4ebff;}#sk-container-id-1 div.sk-serial::before {content: \"\";position: absolute;border-left: 1px solid gray;box-sizing: border-box;top: 0;bottom: 0;left: 50%;z-index: 0;}#sk-container-id-1 div.sk-serial {display: flex;flex-direction: column;align-items: center;background-color: white;padding-right: 0.2em;padding-left: 0.2em;position: relative;}#sk-container-id-1 div.sk-item {position: relative;z-index: 1;}#sk-container-id-1 div.sk-parallel {display: flex;align-items: stretch;justify-content: center;background-color: white;position: relative;}#sk-container-id-1 div.sk-item::before, #sk-container-id-1 div.sk-parallel-item::before {content: \"\";position: absolute;border-left: 1px solid gray;box-sizing: border-box;top: 0;bottom: 0;left: 50%;z-index: -1;}#sk-container-id-1 div.sk-parallel-item {display: flex;flex-direction: column;z-index: 1;position: relative;background-color: white;}#sk-container-id-1 div.sk-parallel-item:first-child::after {align-self: flex-end;width: 50%;}#sk-container-id-1 div.sk-parallel-item:last-child::after {align-self: flex-start;width: 50%;}#sk-container-id-1 div.sk-parallel-item:only-child::after {width: 0;}#sk-container-id-1 div.sk-dashed-wrapped {border: 1px dashed gray;margin: 0 0.4em 0.5em 0.4em;box-sizing: border-box;padding-bottom: 0.4em;background-color: white;}#sk-container-id-1 div.sk-label label {font-family: monospace;font-weight: bold;display: inline-block;line-height: 1.2em;}#sk-container-id-1 div.sk-label-container {text-align: center;}#sk-container-id-1 div.sk-container {/* jupyter's `normalize.less` sets `[hidden] { display: none; }` but bootstrap.min.css set `[hidden] { display: none !important; }` so we also need the `!important` here to be able to override the default hidden behavior on the sphinx rendered scikit-learn.org. See: https://github.com/scikit-learn/scikit-learn/issues/21755 */display: inline-block !important;position: relative;}#sk-container-id-1 div.sk-text-repr-fallback {display: none;}</style><div id=\"sk-container-id-1\" class=\"sk-top-container\"><div class=\"sk-text-repr-fallback\"><pre>LinearRegression()</pre><b>In a Jupyter environment, please rerun this cell to show the HTML representation or trust the notebook. <br />On GitHub, the HTML representation is unable to render, please try loading this page with nbviewer.org.</b></div><div class=\"sk-container\" hidden><div class=\"sk-item\"><div class=\"sk-estimator sk-toggleable\"><input class=\"sk-toggleable__control sk-hidden--visually\" id=\"sk-estimator-id-1\" type=\"checkbox\" checked><label for=\"sk-estimator-id-1\" class=\"sk-toggleable__label sk-toggleable__label-arrow\">LinearRegression</label><div class=\"sk-toggleable__content\"><pre>LinearRegression()</pre></div></div></div></div></div>"
      ],
      "text/plain": [
       "LinearRegression()"
      ]
     },
     "execution_count": 30,
     "metadata": {},
     "output_type": "execute_result"
    }
   ],
   "source": [
    "# Create initial linear model\n",
    "lm = LinearRegression()\n",
    "lm.fit(X_train,y_train)"
   ]
  },
  {
   "cell_type": "code",
   "execution_count": 62,
   "id": "03438472",
   "metadata": {},
   "outputs": [],
   "source": [
    "# Perform RFE with linear model and select 13 features model base model\n",
    "rfe = RFE(estimator = lm, n_features_to_select =13)\n",
    "rfe = rfe.fit(X_train,y_train)"
   ]
  },
  {
   "cell_type": "code",
   "execution_count": 57,
   "id": "9befcf29",
   "metadata": {},
   "outputs": [
    {
     "data": {
      "text/plain": [
       "[('wheelbase', False, 27),\n",
       " ('carlength', False, 28),\n",
       " ('carwidth', False, 21),\n",
       " ('carheight', False, 26),\n",
       " ('curbweight', False, 9),\n",
       " ('enginesize', True, 1),\n",
       " ('boreratio', False, 17),\n",
       " ('stroke', False, 38),\n",
       " ('compressionratio', False, 34),\n",
       " ('horsepower', False, 40),\n",
       " ('peakrpm', False, 36),\n",
       " ('citympg', False, 52),\n",
       " ('highwaympg', False, 45),\n",
       " ('symboling_-1', True, 1),\n",
       " ('symboling_0', True, 1),\n",
       " ('symboling_1', True, 1),\n",
       " ('symboling_2', True, 1),\n",
       " ('symboling_3', True, 1),\n",
       " ('CompanyName_audi', True, 1),\n",
       " ('CompanyName_bmw', True, 1),\n",
       " ('CompanyName_buick', True, 1),\n",
       " ('CompanyName_chevrolet', False, 29),\n",
       " ('CompanyName_dodge', False, 25),\n",
       " ('CompanyName_honda', False, 23),\n",
       " ('CompanyName_isuzu', False, 51),\n",
       " ('CompanyName_jaguar', False, 31),\n",
       " ('CompanyName_mazda', False, 47),\n",
       " ('CompanyName_mercury', False, 54),\n",
       " ('CompanyName_mitsubishi', False, 18),\n",
       " ('CompanyName_nissan', False, 44),\n",
       " ('CompanyName_peugeot', False, 10),\n",
       " ('CompanyName_plymouth', False, 24),\n",
       " ('CompanyName_porsche', True, 1),\n",
       " ('CompanyName_renault', False, 19),\n",
       " ('CompanyName_saab', True, 1),\n",
       " ('CompanyName_subaru', False, 20),\n",
       " ('CompanyName_toyota', False, 48),\n",
       " ('CompanyName_volkswagen', False, 43),\n",
       " ('CompanyName_volvo', True, 1),\n",
       " ('fueltype_gas', False, 33),\n",
       " ('aspiration_turbo', False, 22),\n",
       " ('doornumber_two', False, 42),\n",
       " ('carbody_hardtop', False, 8),\n",
       " ('carbody_hatchback', False, 5),\n",
       " ('carbody_sedan', False, 6),\n",
       " ('carbody_wagon', False, 7),\n",
       " ('drivewheel_fwd', False, 53),\n",
       " ('drivewheel_rwd', False, 41),\n",
       " ('enginelocation_rear', False, 2),\n",
       " ('enginetype_dohcv', False, 12),\n",
       " ('enginetype_l', False, 11),\n",
       " ('enginetype_ohc', False, 46),\n",
       " ('enginetype_ohcf', False, 15),\n",
       " ('enginetype_ohcv', False, 37),\n",
       " ('enginetype_rotor', False, 3),\n",
       " ('cylindernumber_five', False, 16),\n",
       " ('cylindernumber_four', False, 13),\n",
       " ('cylindernumber_six', False, 30),\n",
       " ('cylindernumber_three', False, 4),\n",
       " ('cylindernumber_twelve', False, 14),\n",
       " ('cylindernumber_two', True, 1),\n",
       " ('fuelsystem_2bbl', False, 35),\n",
       " ('fuelsystem_4bbl', False, 39),\n",
       " ('fuelsystem_idi', False, 32),\n",
       " ('fuelsystem_mfi', False, 55),\n",
       " ('fuelsystem_mpfi', False, 49),\n",
       " ('fuelsystem_spdi', False, 50),\n",
       " ('fuelsystem_spfi', False, 56)]"
      ]
     },
     "execution_count": 57,
     "metadata": {},
     "output_type": "execute_result"
    }
   ],
   "source": [
    "# Check for rfe.support_ and ranking\n",
    "list(zip(X_train.columns,rfe.support_,rfe.ranking_))"
   ]
  },
  {
   "cell_type": "markdown",
   "id": "954cb6c1",
   "metadata": {},
   "source": [
    "we got the information of each features, boolean values, and rangking information (integer). The boolean values indicating whether the variabel is significant to our model (False values for discarded veatures)"
   ]
  },
  {
   "cell_type": "code",
   "execution_count": 58,
   "id": "0a39b582",
   "metadata": {
    "scrolled": true
   },
   "outputs": [
    {
     "data": {
      "text/plain": [
       "Index(['enginesize', 'symboling_-1', 'symboling_0', 'symboling_1',\n",
       "       'symboling_2', 'symboling_3', 'CompanyName_audi', 'CompanyName_bmw',\n",
       "       'CompanyName_buick', 'CompanyName_porsche', 'CompanyName_saab',\n",
       "       'CompanyName_volvo', 'cylindernumber_two'],\n",
       "      dtype='object')"
      ]
     },
     "execution_count": 58,
     "metadata": {},
     "output_type": "execute_result"
    }
   ],
   "source": [
    "X_train.columns[rfe.support_]"
   ]
  },
  {
   "cell_type": "markdown",
   "id": "42a5c9c5",
   "metadata": {},
   "source": [
    "#### Buil Model according to RFE result"
   ]
  },
  {
   "cell_type": "code",
   "execution_count": 59,
   "id": "af7d6b18",
   "metadata": {
    "scrolled": true
   },
   "outputs": [
    {
     "data": {
      "text/html": [
       "<div>\n",
       "<style scoped>\n",
       "    .dataframe tbody tr th:only-of-type {\n",
       "        vertical-align: middle;\n",
       "    }\n",
       "\n",
       "    .dataframe tbody tr th {\n",
       "        vertical-align: top;\n",
       "    }\n",
       "\n",
       "    .dataframe thead th {\n",
       "        text-align: right;\n",
       "    }\n",
       "</style>\n",
       "<table border=\"1\" class=\"dataframe\">\n",
       "  <thead>\n",
       "    <tr style=\"text-align: right;\">\n",
       "      <th></th>\n",
       "      <th>enginesize</th>\n",
       "      <th>symboling_-1</th>\n",
       "      <th>symboling_0</th>\n",
       "      <th>symboling_1</th>\n",
       "      <th>symboling_2</th>\n",
       "      <th>symboling_3</th>\n",
       "      <th>CompanyName_audi</th>\n",
       "      <th>CompanyName_bmw</th>\n",
       "      <th>CompanyName_buick</th>\n",
       "      <th>CompanyName_porsche</th>\n",
       "      <th>CompanyName_saab</th>\n",
       "      <th>CompanyName_volvo</th>\n",
       "      <th>cylindernumber_two</th>\n",
       "    </tr>\n",
       "  </thead>\n",
       "  <tbody>\n",
       "    <tr>\n",
       "      <th>122</th>\n",
       "      <td>-0.660242</td>\n",
       "      <td>0</td>\n",
       "      <td>0</td>\n",
       "      <td>1</td>\n",
       "      <td>0</td>\n",
       "      <td>0</td>\n",
       "      <td>0</td>\n",
       "      <td>0</td>\n",
       "      <td>0</td>\n",
       "      <td>0</td>\n",
       "      <td>0</td>\n",
       "      <td>0</td>\n",
       "      <td>0</td>\n",
       "    </tr>\n",
       "    <tr>\n",
       "      <th>125</th>\n",
       "      <td>0.637806</td>\n",
       "      <td>0</td>\n",
       "      <td>0</td>\n",
       "      <td>0</td>\n",
       "      <td>0</td>\n",
       "      <td>1</td>\n",
       "      <td>0</td>\n",
       "      <td>0</td>\n",
       "      <td>0</td>\n",
       "      <td>1</td>\n",
       "      <td>0</td>\n",
       "      <td>0</td>\n",
       "      <td>0</td>\n",
       "    </tr>\n",
       "    <tr>\n",
       "      <th>166</th>\n",
       "      <td>-0.660242</td>\n",
       "      <td>0</td>\n",
       "      <td>0</td>\n",
       "      <td>1</td>\n",
       "      <td>0</td>\n",
       "      <td>0</td>\n",
       "      <td>0</td>\n",
       "      <td>0</td>\n",
       "      <td>0</td>\n",
       "      <td>0</td>\n",
       "      <td>0</td>\n",
       "      <td>0</td>\n",
       "      <td>0</td>\n",
       "    </tr>\n",
       "    <tr>\n",
       "      <th>1</th>\n",
       "      <td>0.123485</td>\n",
       "      <td>0</td>\n",
       "      <td>0</td>\n",
       "      <td>0</td>\n",
       "      <td>0</td>\n",
       "      <td>1</td>\n",
       "      <td>0</td>\n",
       "      <td>0</td>\n",
       "      <td>0</td>\n",
       "      <td>0</td>\n",
       "      <td>0</td>\n",
       "      <td>0</td>\n",
       "      <td>0</td>\n",
       "    </tr>\n",
       "    <tr>\n",
       "      <th>199</th>\n",
       "      <td>0.123485</td>\n",
       "      <td>1</td>\n",
       "      <td>0</td>\n",
       "      <td>0</td>\n",
       "      <td>0</td>\n",
       "      <td>0</td>\n",
       "      <td>0</td>\n",
       "      <td>0</td>\n",
       "      <td>0</td>\n",
       "      <td>0</td>\n",
       "      <td>0</td>\n",
       "      <td>1</td>\n",
       "      <td>0</td>\n",
       "    </tr>\n",
       "  </tbody>\n",
       "</table>\n",
       "</div>"
      ],
      "text/plain": [
       "     enginesize  symboling_-1  symboling_0  symboling_1  symboling_2  \\\n",
       "122   -0.660242             0            0            1            0   \n",
       "125    0.637806             0            0            0            0   \n",
       "166   -0.660242             0            0            1            0   \n",
       "1      0.123485             0            0            0            0   \n",
       "199    0.123485             1            0            0            0   \n",
       "\n",
       "     symboling_3  CompanyName_audi  CompanyName_bmw  CompanyName_buick  \\\n",
       "122            0                 0                0                  0   \n",
       "125            1                 0                0                  0   \n",
       "166            0                 0                0                  0   \n",
       "1              1                 0                0                  0   \n",
       "199            0                 0                0                  0   \n",
       "\n",
       "     CompanyName_porsche  CompanyName_saab  CompanyName_volvo  \\\n",
       "122                    0                 0                  0   \n",
       "125                    1                 0                  0   \n",
       "166                    0                 0                  0   \n",
       "1                      0                 0                  0   \n",
       "199                    0                 0                  1   \n",
       "\n",
       "     cylindernumber_two  \n",
       "122                   0  \n",
       "125                   0  \n",
       "166                   0  \n",
       "1                     0  \n",
       "199                   0  "
      ]
     },
     "execution_count": 59,
     "metadata": {},
     "output_type": "execute_result"
    }
   ],
   "source": [
    "# Subset X_train column to create base model\n",
    "X_train_rfe_base = X_train[X_train.columns[rfe.support_]]\n",
    "X_train_rfe_base.head()"
   ]
  },
  {
   "cell_type": "markdown",
   "id": "43720bcb",
   "metadata": {},
   "source": [
    "We need to create base (inital) model to compare model performace with another model and get the best model"
   ]
  },
  {
   "cell_type": "code",
   "execution_count": 60,
   "id": "a548aad0",
   "metadata": {},
   "outputs": [],
   "source": [
    "def build_model(X,y):\n",
    "    X = sm.add_constant(X) #Adding constant as independent variable to help estimate coefficient\n",
    "    lm = sm.OLS(y,X).fit() # fitting the model\n",
    "    print(lm.summary())\n",
    "    return X\n",
    "   \n",
    "def check_VIF(X):\n",
    "    vif = pd.DataFrame()\n",
    "    vif['Features'] = X.columns\n",
    "    vif['VIF'] = [variance_inflation_factor(X.values, i) for i in range(X.shape[1])]\n",
    "    vif['VIF'] = round(vif['VIF'], 2)\n",
    "    vif = vif.sort_values(by = \"VIF\", ascending = False)\n",
    "    return(vif)"
   ]
  },
  {
   "cell_type": "markdown",
   "id": "c650262b",
   "metadata": {},
   "source": [
    "#### Model 1 : 13 Features"
   ]
  },
  {
   "cell_type": "code",
   "execution_count": 61,
   "id": "7fba4c2d",
   "metadata": {},
   "outputs": [
    {
     "name": "stdout",
     "output_type": "stream",
     "text": [
      "                            OLS Regression Results                            \n",
      "==============================================================================\n",
      "Dep. Variable:                  price   R-squared:                       0.914\n",
      "Model:                            OLS   Adj. R-squared:                  0.905\n",
      "Method:                 Least Squares   F-statistic:                     105.1\n",
      "Date:                Tue, 18 Apr 2023   Prob (F-statistic):           5.62e-62\n",
      "Time:                        11:18:46   Log-Likelihood:                -27.684\n",
      "No. Observations:                 143   AIC:                             83.37\n",
      "Df Residuals:                     129   BIC:                             124.8\n",
      "Df Model:                          13                                         \n",
      "Covariance Type:            nonrobust                                         \n",
      "=======================================================================================\n",
      "                          coef    std err          t      P>|t|      [0.025      0.975]\n",
      "---------------------------------------------------------------------------------------\n",
      "const                  -1.0681      0.297     -3.594      0.000      -1.656      -0.480\n",
      "enginesize              0.7017      0.034     20.944      0.000       0.635       0.768\n",
      "symboling_-1            0.7821      0.268      2.920      0.004       0.252       1.312\n",
      "symboling_0             0.9299      0.301      3.094      0.002       0.335       1.525\n",
      "symboling_1             0.8204      0.302      2.719      0.007       0.223       1.417\n",
      "symboling_2             0.6998      0.308      2.269      0.025       0.090       1.310\n",
      "symboling_3             0.8478      0.307      2.762      0.007       0.241       1.455\n",
      "CompanyName_audi        0.8092      0.145      5.567      0.000       0.522       1.097\n",
      "CompanyName_bmw         1.2030      0.137      8.777      0.000       0.932       1.474\n",
      "CompanyName_buick       1.2220      0.183      6.668      0.000       0.859       1.585\n",
      "CompanyName_porsche     1.3062      0.195      6.714      0.000       0.921       1.691\n",
      "CompanyName_saab        0.6788      0.189      3.586      0.000       0.304       1.053\n",
      "CompanyName_volvo       0.9731      0.202      4.827      0.000       0.574       1.372\n",
      "cylindernumber_two      1.1171      0.187      5.988      0.000       0.748       1.486\n",
      "==============================================================================\n",
      "Omnibus:                       14.688   Durbin-Watson:                   2.006\n",
      "Prob(Omnibus):                  0.001   Jarque-Bera (JB):               23.096\n",
      "Skew:                           0.524   Prob(JB):                     9.66e-06\n",
      "Kurtosis:                       4.667   Cond. No.                         31.5\n",
      "==============================================================================\n",
      "\n",
      "Notes:\n",
      "[1] Standard Errors assume that the covariance matrix of the errors is correctly specified.\n"
     ]
    }
   ],
   "source": [
    "X_train_1 = build_model(X_train_rfe_base,y_train)"
   ]
  },
  {
   "cell_type": "markdown",
   "id": "2c54a44f",
   "metadata": {},
   "source": [
    "All features p-values are below 0.05"
   ]
  },
  {
   "cell_type": "code",
   "execution_count": 63,
   "id": "a75d71dd",
   "metadata": {},
   "outputs": [
    {
     "data": {
      "text/html": [
       "<div>\n",
       "<style scoped>\n",
       "    .dataframe tbody tr th:only-of-type {\n",
       "        vertical-align: middle;\n",
       "    }\n",
       "\n",
       "    .dataframe tbody tr th {\n",
       "        vertical-align: top;\n",
       "    }\n",
       "\n",
       "    .dataframe thead th {\n",
       "        text-align: right;\n",
       "    }\n",
       "</style>\n",
       "<table border=\"1\" class=\"dataframe\">\n",
       "  <thead>\n",
       "    <tr style=\"text-align: right;\">\n",
       "      <th></th>\n",
       "      <th>Features</th>\n",
       "      <th>VIF</th>\n",
       "    </tr>\n",
       "  </thead>\n",
       "  <tbody>\n",
       "    <tr>\n",
       "      <th>0</th>\n",
       "      <td>const</td>\n",
       "      <td>132.14</td>\n",
       "    </tr>\n",
       "    <tr>\n",
       "      <th>3</th>\n",
       "      <td>symboling_0</td>\n",
       "      <td>30.74</td>\n",
       "    </tr>\n",
       "    <tr>\n",
       "      <th>4</th>\n",
       "      <td>symboling_1</td>\n",
       "      <td>28.63</td>\n",
       "    </tr>\n",
       "    <tr>\n",
       "      <th>6</th>\n",
       "      <td>symboling_3</td>\n",
       "      <td>15.50</td>\n",
       "    </tr>\n",
       "    <tr>\n",
       "      <th>5</th>\n",
       "      <td>symboling_2</td>\n",
       "      <td>14.90</td>\n",
       "    </tr>\n",
       "    <tr>\n",
       "      <th>2</th>\n",
       "      <td>symboling_-1</td>\n",
       "      <td>8.87</td>\n",
       "    </tr>\n",
       "    <tr>\n",
       "      <th>12</th>\n",
       "      <td>CompanyName_volvo</td>\n",
       "      <td>2.44</td>\n",
       "    </tr>\n",
       "    <tr>\n",
       "      <th>9</th>\n",
       "      <td>CompanyName_buick</td>\n",
       "      <td>1.70</td>\n",
       "    </tr>\n",
       "    <tr>\n",
       "      <th>1</th>\n",
       "      <td>enginesize</td>\n",
       "      <td>1.68</td>\n",
       "    </tr>\n",
       "    <tr>\n",
       "      <th>13</th>\n",
       "      <td>cylindernumber_two</td>\n",
       "      <td>1.42</td>\n",
       "    </tr>\n",
       "    <tr>\n",
       "      <th>10</th>\n",
       "      <td>CompanyName_porsche</td>\n",
       "      <td>1.16</td>\n",
       "    </tr>\n",
       "    <tr>\n",
       "      <th>8</th>\n",
       "      <td>CompanyName_bmw</td>\n",
       "      <td>1.13</td>\n",
       "    </tr>\n",
       "    <tr>\n",
       "      <th>11</th>\n",
       "      <td>CompanyName_saab</td>\n",
       "      <td>1.10</td>\n",
       "    </tr>\n",
       "    <tr>\n",
       "      <th>7</th>\n",
       "      <td>CompanyName_audi</td>\n",
       "      <td>1.07</td>\n",
       "    </tr>\n",
       "  </tbody>\n",
       "</table>\n",
       "</div>"
      ],
      "text/plain": [
       "               Features     VIF\n",
       "0                 const  132.14\n",
       "3           symboling_0   30.74\n",
       "4           symboling_1   28.63\n",
       "6           symboling_3   15.50\n",
       "5           symboling_2   14.90\n",
       "2          symboling_-1    8.87\n",
       "12    CompanyName_volvo    2.44\n",
       "9     CompanyName_buick    1.70\n",
       "1            enginesize    1.68\n",
       "13   cylindernumber_two    1.42\n",
       "10  CompanyName_porsche    1.16\n",
       "8       CompanyName_bmw    1.13\n",
       "11     CompanyName_saab    1.10\n",
       "7      CompanyName_audi    1.07"
      ]
     },
     "execution_count": 63,
     "metadata": {},
     "output_type": "execute_result"
    }
   ],
   "source": [
    "check_VIF(X_train_1)"
   ]
  },
  {
   "cell_type": "markdown",
   "id": "c526c44f",
   "metadata": {},
   "source": [
    "I'm going to drop all symboling column because of high VIF"
   ]
  },
  {
   "cell_type": "markdown",
   "id": "6644b04d",
   "metadata": {},
   "source": [
    "#### Model 2 : 9 Features"
   ]
  },
  {
   "cell_type": "code",
   "execution_count": 65,
   "id": "a63c4a49",
   "metadata": {},
   "outputs": [],
   "source": [
    "X_train_2 = X_train_1.drop(['symboling_0', 'symboling_1', 'symboling_3', 'symboling_2'], axis = 1)"
   ]
  },
  {
   "cell_type": "code",
   "execution_count": 67,
   "id": "ee37b091",
   "metadata": {
    "scrolled": true
   },
   "outputs": [
    {
     "name": "stdout",
     "output_type": "stream",
     "text": [
      "                            OLS Regression Results                            \n",
      "==============================================================================\n",
      "Dep. Variable:                  price   R-squared:                       0.904\n",
      "Model:                            OLS   Adj. R-squared:                  0.897\n",
      "Method:                 Least Squares   F-statistic:                     138.8\n",
      "Date:                Tue, 18 Apr 2023   Prob (F-statistic):           4.07e-63\n",
      "Time:                        11:31:50   Log-Likelihood:                -35.542\n",
      "No. Observations:                 143   AIC:                             91.08\n",
      "Df Residuals:                     133   BIC:                             120.7\n",
      "Df Model:                           9                                         \n",
      "Covariance Type:            nonrobust                                         \n",
      "=======================================================================================\n",
      "                          coef    std err          t      P>|t|      [0.025      0.975]\n",
      "---------------------------------------------------------------------------------------\n",
      "const                  -0.2160      0.032     -6.834      0.000      -0.278      -0.153\n",
      "enginesize              0.7220      0.032     22.342      0.000       0.658       0.786\n",
      "symboling_-1            0.0862      0.123      0.702      0.484      -0.157       0.329\n",
      "CompanyName_audi        0.7466      0.148      5.053      0.000       0.454       1.039\n",
      "CompanyName_bmw         1.2019      0.141      8.515      0.000       0.923       1.481\n",
      "CompanyName_buick       1.0571      0.184      5.751      0.000       0.694       1.421\n",
      "CompanyName_porsche     1.2640      0.195      6.473      0.000       0.878       1.650\n",
      "CompanyName_saab        0.5778      0.188      3.068      0.003       0.205       0.950\n",
      "CompanyName_volvo       0.5749      0.156      3.695      0.000       0.267       0.883\n",
      "cylindernumber_two      1.1389      0.168      6.794      0.000       0.807       1.470\n",
      "==============================================================================\n",
      "Omnibus:                       16.359   Durbin-Watson:                   1.956\n",
      "Prob(Omnibus):                  0.000   Jarque-Bera (JB):               21.109\n",
      "Skew:                           0.677   Prob(JB):                     2.61e-05\n",
      "Kurtosis:                       4.308   Cond. No.                         8.21\n",
      "==============================================================================\n",
      "\n",
      "Notes:\n",
      "[1] Standard Errors assume that the covariance matrix of the errors is correctly specified.\n"
     ]
    }
   ],
   "source": [
    "X_train_2 = build_model(X_train_2,y_train)"
   ]
  },
  {
   "cell_type": "markdown",
   "id": "b25d0b7c",
   "metadata": {},
   "source": [
    "symboling_-1 p-value > 0.05, therefore I'm going to drop this feature"
   ]
  },
  {
   "cell_type": "code",
   "execution_count": 68,
   "id": "e85174d6",
   "metadata": {
    "scrolled": true
   },
   "outputs": [
    {
     "data": {
      "text/html": [
       "<div>\n",
       "<style scoped>\n",
       "    .dataframe tbody tr th:only-of-type {\n",
       "        vertical-align: middle;\n",
       "    }\n",
       "\n",
       "    .dataframe tbody tr th {\n",
       "        vertical-align: top;\n",
       "    }\n",
       "\n",
       "    .dataframe thead th {\n",
       "        text-align: right;\n",
       "    }\n",
       "</style>\n",
       "<table border=\"1\" class=\"dataframe\">\n",
       "  <thead>\n",
       "    <tr style=\"text-align: right;\">\n",
       "      <th></th>\n",
       "      <th>Features</th>\n",
       "      <th>VIF</th>\n",
       "    </tr>\n",
       "  </thead>\n",
       "  <tbody>\n",
       "    <tr>\n",
       "      <th>2</th>\n",
       "      <td>symboling_-1</td>\n",
       "      <td>1.72</td>\n",
       "    </tr>\n",
       "    <tr>\n",
       "      <th>5</th>\n",
       "      <td>CompanyName_buick</td>\n",
       "      <td>1.58</td>\n",
       "    </tr>\n",
       "    <tr>\n",
       "      <th>1</th>\n",
       "      <td>enginesize</td>\n",
       "      <td>1.44</td>\n",
       "    </tr>\n",
       "    <tr>\n",
       "      <th>0</th>\n",
       "      <td>const</td>\n",
       "      <td>1.38</td>\n",
       "    </tr>\n",
       "    <tr>\n",
       "      <th>8</th>\n",
       "      <td>CompanyName_volvo</td>\n",
       "      <td>1.34</td>\n",
       "    </tr>\n",
       "    <tr>\n",
       "      <th>4</th>\n",
       "      <td>CompanyName_bmw</td>\n",
       "      <td>1.11</td>\n",
       "    </tr>\n",
       "    <tr>\n",
       "      <th>6</th>\n",
       "      <td>CompanyName_porsche</td>\n",
       "      <td>1.08</td>\n",
       "    </tr>\n",
       "    <tr>\n",
       "      <th>9</th>\n",
       "      <td>cylindernumber_two</td>\n",
       "      <td>1.06</td>\n",
       "    </tr>\n",
       "    <tr>\n",
       "      <th>3</th>\n",
       "      <td>CompanyName_audi</td>\n",
       "      <td>1.02</td>\n",
       "    </tr>\n",
       "    <tr>\n",
       "      <th>7</th>\n",
       "      <td>CompanyName_saab</td>\n",
       "      <td>1.01</td>\n",
       "    </tr>\n",
       "  </tbody>\n",
       "</table>\n",
       "</div>"
      ],
      "text/plain": [
       "              Features   VIF\n",
       "2         symboling_-1  1.72\n",
       "5    CompanyName_buick  1.58\n",
       "1           enginesize  1.44\n",
       "0                const  1.38\n",
       "8    CompanyName_volvo  1.34\n",
       "4      CompanyName_bmw  1.11\n",
       "6  CompanyName_porsche  1.08\n",
       "9   cylindernumber_two  1.06\n",
       "3     CompanyName_audi  1.02\n",
       "7     CompanyName_saab  1.01"
      ]
     },
     "execution_count": 68,
     "metadata": {},
     "output_type": "execute_result"
    }
   ],
   "source": [
    "check_VIF(X_train_2)"
   ]
  },
  {
   "cell_type": "markdown",
   "id": "5894e471",
   "metadata": {},
   "source": [
    "#### Model 3: 8 Features"
   ]
  },
  {
   "cell_type": "code",
   "execution_count": 74,
   "id": "75afc2c6",
   "metadata": {},
   "outputs": [],
   "source": [
    "X_train_3 = X_train_2.drop(['symboling_-1'], axis = 1)"
   ]
  },
  {
   "cell_type": "code",
   "execution_count": 75,
   "id": "3095afdf",
   "metadata": {},
   "outputs": [
    {
     "name": "stdout",
     "output_type": "stream",
     "text": [
      "                            OLS Regression Results                            \n",
      "==============================================================================\n",
      "Dep. Variable:                  price   R-squared:                       0.903\n",
      "Model:                            OLS   Adj. R-squared:                  0.898\n",
      "Method:                 Least Squares   F-statistic:                     156.6\n",
      "Date:                Tue, 18 Apr 2023   Prob (F-statistic):           4.02e-64\n",
      "Time:                        11:39:39   Log-Likelihood:                -35.806\n",
      "No. Observations:                 143   AIC:                             89.61\n",
      "Df Residuals:                     134   BIC:                             116.3\n",
      "Df Model:                           8                                         \n",
      "Covariance Type:            nonrobust                                         \n",
      "=======================================================================================\n",
      "                          coef    std err          t      P>|t|      [0.025      0.975]\n",
      "---------------------------------------------------------------------------------------\n",
      "const                  -0.2118      0.031     -6.837      0.000      -0.273      -0.150\n",
      "enginesize              0.7238      0.032     22.514      0.000       0.660       0.787\n",
      "CompanyName_audi        0.7420      0.147      5.036      0.000       0.451       1.033\n",
      "CompanyName_bmw         1.1957      0.141      8.504      0.000       0.918       1.474\n",
      "CompanyName_buick       1.1184      0.161      6.926      0.000       0.799       1.438\n",
      "CompanyName_porsche     1.2572      0.195      6.459      0.000       0.872       1.642\n",
      "CompanyName_saab        0.5737      0.188      3.054      0.003       0.202       0.945\n",
      "CompanyName_volvo       0.6272      0.136      4.603      0.000       0.358       0.897\n",
      "cylindernumber_two      1.1370      0.167      6.797      0.000       0.806       1.468\n",
      "==============================================================================\n",
      "Omnibus:                       15.610   Durbin-Watson:                   1.961\n",
      "Prob(Omnibus):                  0.000   Jarque-Bera (JB):               20.300\n",
      "Skew:                           0.644   Prob(JB):                     3.91e-05\n",
      "Kurtosis:                       4.322   Cond. No.                         7.67\n",
      "==============================================================================\n",
      "\n",
      "Notes:\n",
      "[1] Standard Errors assume that the covariance matrix of the errors is correctly specified.\n"
     ]
    }
   ],
   "source": [
    "X_train_3 = build_model(X_train_3,y_train)"
   ]
  },
  {
   "cell_type": "code",
   "execution_count": 76,
   "id": "c09dfdc4",
   "metadata": {},
   "outputs": [
    {
     "data": {
      "text/html": [
       "<div>\n",
       "<style scoped>\n",
       "    .dataframe tbody tr th:only-of-type {\n",
       "        vertical-align: middle;\n",
       "    }\n",
       "\n",
       "    .dataframe tbody tr th {\n",
       "        vertical-align: top;\n",
       "    }\n",
       "\n",
       "    .dataframe thead th {\n",
       "        text-align: right;\n",
       "    }\n",
       "</style>\n",
       "<table border=\"1\" class=\"dataframe\">\n",
       "  <thead>\n",
       "    <tr style=\"text-align: right;\">\n",
       "      <th></th>\n",
       "      <th>Features</th>\n",
       "      <th>VIF</th>\n",
       "    </tr>\n",
       "  </thead>\n",
       "  <tbody>\n",
       "    <tr>\n",
       "      <th>1</th>\n",
       "      <td>enginesize</td>\n",
       "      <td>1.43</td>\n",
       "    </tr>\n",
       "    <tr>\n",
       "      <th>0</th>\n",
       "      <td>const</td>\n",
       "      <td>1.33</td>\n",
       "    </tr>\n",
       "    <tr>\n",
       "      <th>4</th>\n",
       "      <td>CompanyName_buick</td>\n",
       "      <td>1.22</td>\n",
       "    </tr>\n",
       "    <tr>\n",
       "      <th>3</th>\n",
       "      <td>CompanyName_bmw</td>\n",
       "      <td>1.10</td>\n",
       "    </tr>\n",
       "    <tr>\n",
       "      <th>5</th>\n",
       "      <td>CompanyName_porsche</td>\n",
       "      <td>1.08</td>\n",
       "    </tr>\n",
       "    <tr>\n",
       "      <th>8</th>\n",
       "      <td>cylindernumber_two</td>\n",
       "      <td>1.06</td>\n",
       "    </tr>\n",
       "    <tr>\n",
       "      <th>7</th>\n",
       "      <td>CompanyName_volvo</td>\n",
       "      <td>1.04</td>\n",
       "    </tr>\n",
       "    <tr>\n",
       "      <th>2</th>\n",
       "      <td>CompanyName_audi</td>\n",
       "      <td>1.02</td>\n",
       "    </tr>\n",
       "    <tr>\n",
       "      <th>6</th>\n",
       "      <td>CompanyName_saab</td>\n",
       "      <td>1.01</td>\n",
       "    </tr>\n",
       "  </tbody>\n",
       "</table>\n",
       "</div>"
      ],
      "text/plain": [
       "              Features   VIF\n",
       "1           enginesize  1.43\n",
       "0                const  1.33\n",
       "4    CompanyName_buick  1.22\n",
       "3      CompanyName_bmw  1.10\n",
       "5  CompanyName_porsche  1.08\n",
       "8   cylindernumber_two  1.06\n",
       "7    CompanyName_volvo  1.04\n",
       "2     CompanyName_audi  1.02\n",
       "6     CompanyName_saab  1.01"
      ]
     },
     "execution_count": 76,
     "metadata": {},
     "output_type": "execute_result"
    }
   ],
   "source": [
    "check_VIF(X_train_3)"
   ]
  },
  {
   "cell_type": "markdown",
   "id": "ccf931c4",
   "metadata": {},
   "source": [
    "### Redisual Assumption"
   ]
  },
  {
   "cell_type": "code",
   "execution_count": 77,
   "id": "90e031b1",
   "metadata": {},
   "outputs": [],
   "source": [
    "lm_final = sm.OLS(y_train,X_train_3).fit()\n",
    "y_train_price = lm_final.predict(X_train_3)\n",
    "\n",
    "# Calculate residuals from train prediction\n",
    "resid = y_train.price - y_train_price"
   ]
  },
  {
   "cell_type": "code",
   "execution_count": 105,
   "id": "9c1c4b9d",
   "metadata": {
    "scrolled": false
   },
   "outputs": [
    {
     "data": {
      "text/plain": [
       "<matplotlib.collections.LineCollection at 0x143e6f6bd90>"
      ]
     },
     "execution_count": 105,
     "metadata": {},
     "output_type": "execute_result"
    },
    {
     "data": {
      "image/png": "[encoded data removed]",
      "text/plain": [
       "<Figure size 1500x900 with 1 Axes>"
      ]
     },
     "metadata": {},
     "output_type": "display_data"
    }
   ],
   "source": [
    "plt.figure(figsize=(15,9))\n",
    "plt.scatter(resid.index, resid.values)\n",
    "plt.hlines(0,0,200)"
   ]
  },
  {
   "cell_type": "markdown",
   "id": "82688384",
   "metadata": {},
   "source": [
    "**Durbin-Watson tests**\n",
    "\n",
    "The test of Durbin-Watson tests the null hypothesis that the residuals are not dependent (autocorrelated) on each other.\n",
    "The Durbin-Watson statisticlies in the range 0-4. A value of 2 or nearly 2 indicates that there is no first-order autocorrelation. An acceptable range is 1.50 - 2.50.\n",
    "\n",
    "Where successive error differences are small, Durbin-Watson is low (less than 1.50); this indicates the presence of positive autocorrelation. Positive autocorrelation is very common. Where successive error differences are large, Durbin-Watson is high (more than 2.50); this indicates the presence of negative autocorrelation. Negative autocorrelation is not particularly common.\n",
    "\n",
    "In time series with lagged variables, the Durbin-Watson statistic is unreliable as it tends toward a value of 2.0.\n",
    "\n",
    "In general, values of d ~ 2 indicate that there is no dependence (no autocorrelation) between the residuals."
   ]
  },
  {
   "cell_type": "code",
   "execution_count": 110,
   "id": "a3aeaa06",
   "metadata": {
    "scrolled": true
   },
   "outputs": [
    {
     "name": "stdout",
     "output_type": "stream",
     "text": [
      "1.9614736681524152\n"
     ]
    }
   ],
   "source": [
    "from statsmodels.stats.stattools import durbin_watson\n",
    "print(durbin_watson(resid))"
   ]
  },
  {
   "cell_type": "markdown",
   "id": "1cec9a28",
   "metadata": {},
   "source": [
    "Durbin-Watson test result is very close to 2, indicating no autocorellation"
   ]
  },
  {
   "cell_type": "markdown",
   "id": "5108a431",
   "metadata": {},
   "source": [
    "#### Homoscedasticity"
   ]
  },
  {
   "cell_type": "code",
   "execution_count": 116,
   "id": "ee25f3b7",
   "metadata": {},
   "outputs": [
    {
     "data": {
      "text/plain": [
       "(0.8167739833815822, 0.7879598423483373, 'increasing')"
      ]
     },
     "execution_count": 116,
     "metadata": {},
     "output_type": "execute_result"
    }
   ],
   "source": [
    "sms.het_goldfeldquandt(resid, lm_final.model.exog)"
   ]
  },
  {
   "cell_type": "markdown",
   "id": "6623944d",
   "metadata": {},
   "source": [
    "Analysis:\n",
    "\n",
    "P-Value test Goldfeld-Quandt (0.7) > 0.05, so we accept H0 saying that the error terms are homoscedastic, which means that the residuals have a constant variance"
   ]
  },
  {
   "cell_type": "markdown",
   "id": "63b94a53",
   "metadata": {},
   "source": [
    "### Prediction and Evaluation\n",
    "\n",
    "#### Data test preparation\n",
    "\n",
    "*Note: I have scaled the data test values in the previous step, so that I only need to adjust data test features based on the model final variables*"
   ]
  },
  {
   "cell_type": "code",
   "execution_count": 124,
   "id": "04a8a972",
   "metadata": {},
   "outputs": [
    {
     "data": {
      "text/html": [
       "<div>\n",
       "<style scoped>\n",
       "    .dataframe tbody tr th:only-of-type {\n",
       "        vertical-align: middle;\n",
       "    }\n",
       "\n",
       "    .dataframe tbody tr th {\n",
       "        vertical-align: top;\n",
       "    }\n",
       "\n",
       "    .dataframe thead th {\n",
       "        text-align: right;\n",
       "    }\n",
       "</style>\n",
       "<table border=\"1\" class=\"dataframe\">\n",
       "  <thead>\n",
       "    <tr style=\"text-align: right;\">\n",
       "      <th></th>\n",
       "      <th>wheelbase</th>\n",
       "      <th>carlength</th>\n",
       "      <th>carwidth</th>\n",
       "      <th>carheight</th>\n",
       "      <th>curbweight</th>\n",
       "      <th>enginesize</th>\n",
       "      <th>boreratio</th>\n",
       "      <th>stroke</th>\n",
       "      <th>compressionratio</th>\n",
       "      <th>horsepower</th>\n",
       "      <th>...</th>\n",
       "      <th>cylindernumber_three</th>\n",
       "      <th>cylindernumber_twelve</th>\n",
       "      <th>cylindernumber_two</th>\n",
       "      <th>fuelsystem_2bbl</th>\n",
       "      <th>fuelsystem_4bbl</th>\n",
       "      <th>fuelsystem_idi</th>\n",
       "      <th>fuelsystem_mfi</th>\n",
       "      <th>fuelsystem_mpfi</th>\n",
       "      <th>fuelsystem_spdi</th>\n",
       "      <th>fuelsystem_spfi</th>\n",
       "    </tr>\n",
       "  </thead>\n",
       "  <tbody>\n",
       "    <tr>\n",
       "      <th>160</th>\n",
       "      <td>-0.587157</td>\n",
       "      <td>-0.794680</td>\n",
       "      <td>-0.845273</td>\n",
       "      <td>-0.464750</td>\n",
       "      <td>-1.086333</td>\n",
       "      <td>-0.780488</td>\n",
       "      <td>-0.669882</td>\n",
       "      <td>-0.753102</td>\n",
       "      <td>-0.310803</td>\n",
       "      <td>-0.969994</td>\n",
       "      <td>...</td>\n",
       "      <td>0</td>\n",
       "      <td>0</td>\n",
       "      <td>0</td>\n",
       "      <td>1</td>\n",
       "      <td>0</td>\n",
       "      <td>0</td>\n",
       "      <td>0</td>\n",
       "      <td>0</td>\n",
       "      <td>0</td>\n",
       "      <td>0</td>\n",
       "    </tr>\n",
       "    <tr>\n",
       "      <th>186</th>\n",
       "      <td>-0.325847</td>\n",
       "      <td>-0.328646</td>\n",
       "      <td>-0.286672</td>\n",
       "      <td>0.651450</td>\n",
       "      <td>-0.691974</td>\n",
       "      <td>-0.523466</td>\n",
       "      <td>-0.669882</td>\n",
       "      <td>0.418958</td>\n",
       "      <td>-0.310803</td>\n",
       "      <td>-0.584319</td>\n",
       "      <td>...</td>\n",
       "      <td>0</td>\n",
       "      <td>0</td>\n",
       "      <td>0</td>\n",
       "      <td>0</td>\n",
       "      <td>0</td>\n",
       "      <td>0</td>\n",
       "      <td>0</td>\n",
       "      <td>1</td>\n",
       "      <td>0</td>\n",
       "      <td>0</td>\n",
       "    </tr>\n",
       "    <tr>\n",
       "      <th>59</th>\n",
       "      <td>-0.080869</td>\n",
       "      <td>0.197800</td>\n",
       "      <td>0.221147</td>\n",
       "      <td>-0.175365</td>\n",
       "      <td>-0.452308</td>\n",
       "      <td>-0.219712</td>\n",
       "      <td>0.030501</td>\n",
       "      <td>0.387280</td>\n",
       "      <td>-0.402893</td>\n",
       "      <td>-0.610031</td>\n",
       "      <td>...</td>\n",
       "      <td>0</td>\n",
       "      <td>0</td>\n",
       "      <td>0</td>\n",
       "      <td>1</td>\n",
       "      <td>0</td>\n",
       "      <td>0</td>\n",
       "      <td>0</td>\n",
       "      <td>0</td>\n",
       "      <td>0</td>\n",
       "      <td>0</td>\n",
       "    </tr>\n",
       "  </tbody>\n",
       "</table>\n",
       "<p>3 rows × 69 columns</p>\n",
       "</div>"
      ],
      "text/plain": [
       "     wheelbase  carlength  carwidth  carheight  curbweight  enginesize  \\\n",
       "160  -0.587157  -0.794680 -0.845273  -0.464750   -1.086333   -0.780488   \n",
       "186  -0.325847  -0.328646 -0.286672   0.651450   -0.691974   -0.523466   \n",
       "59   -0.080869   0.197800  0.221147  -0.175365   -0.452308   -0.219712   \n",
       "\n",
       "     boreratio    stroke  compressionratio  horsepower  ...  \\\n",
       "160  -0.669882 -0.753102         -0.310803   -0.969994  ...   \n",
       "186  -0.669882  0.418958         -0.310803   -0.584319  ...   \n",
       "59    0.030501  0.387280         -0.402893   -0.610031  ...   \n",
       "\n",
       "     cylindernumber_three  cylindernumber_twelve  cylindernumber_two  \\\n",
       "160                     0                      0                   0   \n",
       "186                     0                      0                   0   \n",
       "59                      0                      0                   0   \n",
       "\n",
       "     fuelsystem_2bbl  fuelsystem_4bbl  fuelsystem_idi  fuelsystem_mfi  \\\n",
       "160                1                0               0               0   \n",
       "186                0                0               0               0   \n",
       "59                 1                0               0               0   \n",
       "\n",
       "     fuelsystem_mpfi  fuelsystem_spdi  fuelsystem_spfi  \n",
       "160                0                0                0  \n",
       "186                1                0                0  \n",
       "59                 0                0                0  \n",
       "\n",
       "[3 rows x 69 columns]"
      ]
     },
     "execution_count": 124,
     "metadata": {},
     "output_type": "execute_result"
    }
   ],
   "source": [
    "cars_test.head(3)"
   ]
  },
  {
   "cell_type": "code",
   "execution_count": 125,
   "id": "f784a41d",
   "metadata": {},
   "outputs": [],
   "source": [
    "final_features = list(X_train_3.columns)\n",
    "\n",
    "X_test_new = X_test.filter(final_features)\n",
    "\n",
    "# # Adding a constant variable \n",
    "X_test_new = sm.add_constant(X_test_new)"
   ]
  },
  {
   "cell_type": "code",
   "execution_count": 130,
   "id": "b2782971",
   "metadata": {
    "scrolled": true
   },
   "outputs": [
    {
     "data": {
      "text/html": [
       "<div>\n",
       "<style scoped>\n",
       "    .dataframe tbody tr th:only-of-type {\n",
       "        vertical-align: middle;\n",
       "    }\n",
       "\n",
       "    .dataframe tbody tr th {\n",
       "        vertical-align: top;\n",
       "    }\n",
       "\n",
       "    .dataframe thead th {\n",
       "        text-align: right;\n",
       "    }\n",
       "</style>\n",
       "<table border=\"1\" class=\"dataframe\">\n",
       "  <thead>\n",
       "    <tr style=\"text-align: right;\">\n",
       "      <th></th>\n",
       "      <th>const</th>\n",
       "      <th>enginesize</th>\n",
       "      <th>CompanyName_audi</th>\n",
       "      <th>CompanyName_bmw</th>\n",
       "      <th>CompanyName_buick</th>\n",
       "      <th>CompanyName_porsche</th>\n",
       "      <th>CompanyName_saab</th>\n",
       "      <th>CompanyName_volvo</th>\n",
       "      <th>cylindernumber_two</th>\n",
       "    </tr>\n",
       "  </thead>\n",
       "  <tbody>\n",
       "    <tr>\n",
       "      <th>160</th>\n",
       "      <td>1.0</td>\n",
       "      <td>-0.780488</td>\n",
       "      <td>0</td>\n",
       "      <td>0</td>\n",
       "      <td>0</td>\n",
       "      <td>0</td>\n",
       "      <td>0</td>\n",
       "      <td>0</td>\n",
       "      <td>0</td>\n",
       "    </tr>\n",
       "  </tbody>\n",
       "</table>\n",
       "</div>"
      ],
      "text/plain": [
       "     const  enginesize  CompanyName_audi  CompanyName_bmw  CompanyName_buick  \\\n",
       "160    1.0   -0.780488                 0                0                  0   \n",
       "\n",
       "     CompanyName_porsche  CompanyName_saab  CompanyName_volvo  \\\n",
       "160                    0                 0                  0   \n",
       "\n",
       "     cylindernumber_two  \n",
       "160                   0  "
      ]
     },
     "execution_count": 130,
     "metadata": {},
     "output_type": "execute_result"
    }
   ],
   "source": [
    "X_test_new.head(1)"
   ]
  },
  {
   "cell_type": "code",
   "execution_count": 132,
   "id": "f2e45178",
   "metadata": {},
   "outputs": [],
   "source": [
    "# Predictions\n",
    "y_pred = lm_final.predict(X_test_new)"
   ]
  },
  {
   "cell_type": "code",
   "execution_count": 133,
   "id": "589b7636",
   "metadata": {
    "scrolled": true
   },
   "outputs": [
    {
     "data": {
      "text/plain": [
       "0.9034072637825475"
      ]
     },
     "execution_count": 133,
     "metadata": {},
     "output_type": "execute_result"
    }
   ],
   "source": [
    "from sklearn.metrics import r2_score \n",
    "r2_score(y_test, y_pred)"
   ]
  },
  {
   "cell_type": "markdown",
   "id": "ef2dcaca",
   "metadata": {},
   "source": [
    "### RMSE Calculation"
   ]
  },
  {
   "cell_type": "code",
   "execution_count": 135,
   "id": "d86f35b9",
   "metadata": {},
   "outputs": [
    {
     "data": {
      "text/plain": [
       "0.31079371972009406"
      ]
     },
     "execution_count": 135,
     "metadata": {},
     "output_type": "execute_result"
    }
   ],
   "source": [
    "from sklearn.metrics import mean_squared_error as MSE\n",
    "import math\n",
    "\n",
    "mse = MSE(y_test, y_pred)\n",
    "math.sqrt(mse)"
   ]
  }
 ],
 "metadata": {
  "kernelspec": {
   "display_name": "talia_excercise",
   "language": "python",
   "name": "talia_excercise"
  },
  "language_info": {
   "codemirror_mode": {
    "name": "ipython",
    "version": 3
   },
   "file_extension": ".py",
   "mimetype": "text/x-python",
   "name": "python",
   "nbconvert_exporter": "python",
   "pygments_lexer": "ipython3",
   "version": "3.9.12"
  }
 },
 "nbformat": 4,
 "nbformat_minor": 5
}
